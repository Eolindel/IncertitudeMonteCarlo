{
 "cells": [
  {
   "cell_type": "markdown",
   "metadata": {},
   "source": [
    "Ce cahier numérique est à disposition sous licence CC-BY-NC-SA. Il a été écrit par Martin Vérot pour les étudiants en L3 de l'ENS de Lyon au sein du département Sciences de la matière. Cette activité vient en complément du [polycopié de cours](http://agregationchimie.free.fr/cours.php#incertitudes). \n",
    "\n",
    "\n",
    "\n",
    "# test de Welch : accord entre deux séries de mesures différentes de la même grandeur\n",
    "\n",
    "On reprend les résultats de Lord Rayleigh pour comparer la masse de deux échantillons d'azote  : soit par déoxygénation de l'air (jeu de mesures A) soit par décomposition de molécules azotées (jeu de mesures B).\n",
    "\n",
    "Les valeurs pour le jeu A sont (7 mesures) : \n",
    "$$(2,31013; 2,30986; 2,31010; 2,31001; 2,31024; 2,31010; 2,31028)$$\n",
    "celles pour le jeu B sont (8 mesures):\n",
    "$$(2,30143; 2.29890;2,29816; 2,30182; 2,29869; 2,29940; 2,29849; 2,29889)$$\n",
    "\n",
    "## Méthode manuelle"
   ]
  },
  {
   "cell_type": "code",
   "execution_count": null,
   "metadata": {},
   "outputs": [],
   "source": [
    "import numpy as np\n",
    "from scipy.stats import t\n",
    "\n",
    "seuil = 0.95\n",
    "\n",
    "zsA = np.array([2.31013, 2.30986, 2.31010, 2.31001, 2.31024, 2.31010, 2.31028])\n",
    "zsB = np.array([2.30143, 2.29890,2.29816, 2.30182, 2.29869, 2.29940, 2.29849, 2.29889])\n",
    "\n",
    "values = [zsA,zsB]\n",
    "series = ['A','B']\n",
    "stats = {'A':{},'B':{}}\n",
    "\n",
    "#étape 1 : calcul des moyennes et écarts-types\n",
    "for i,name in enumerate(series):\n",
    "    zs = values[i]\n",
    "    #calcul de la moyenne et de l'écart-type sur la moyenne\n",
    "    stats[name]['n'] = zs.size #nombre de mesures\n",
    "    stats[name]['z_moy'] = np.average(zs) #moyenne\n",
    "    stats[name]['sigma_zs'] = np.std(zs,ddof=1) #écart-type\n",
    "    stats[name]['sigma_z_moy'] = stats[name]['sigma_zs']/np.sqrt(stats[name]['n']) #écart-type sur la moyenne\n",
    "print('zA {:.5f}, écart-type de l\\'échantillon {:.6f} , écart-type sur la moyenne {:.6f}'.format(stats['A']['z_moy'],stats['A']['sigma_zs'],stats['A']['sigma_z_moy']))\n",
    "print('zB {:.5f}, écart-type de l\\'échantillon {:.6f} , écart-type sur la moyenne {:.6f}'.format(stats['B']['z_moy'],stats['B']['sigma_zs'],stats['B']['sigma_z_moy']))\n",
    "    \n",
    "#étape 2 : calcul de la valeur de t_exp\n",
    "t_exp = np.abs(stats['A']['z_moy']-stats['B']['z_moy'])/np.sqrt(stats['A']['sigma_z_moy']**2+stats['B']['sigma_z_moy']**2)\n",
    "\n",
    "#étape 3 : calcul du nombre de degré de liberté effectif\n",
    "nu_eff =  (stats['A']['sigma_z_moy']**2+stats['B']['sigma_z_moy']**2)**2/(stats['A']['sigma_z_moy']**4/(stats['A']['n']-1)+stats['B']['sigma_z_moy']**4/(stats['B']['n']-1))  \n",
    "print('nu_eff {}'.format(nu_eff))\n",
    "\n",
    "#étape 4 : calcul du coefficient de Student correspondant\n",
    "t_theo = t.interval(seuil,np.floor(nu_eff))[1]    \n",
    "\n",
    "#étape 5 : comparaison des valeurs\n",
    "print('t_exp {}, t_theo {}'.format(t_exp,t_theo))\n",
    "if t_exp>t_theo:\n",
    "    print('À priori, les deux valeurs ne concordent pas.')\n",
    "else:\n",
    "    print('À priori, les deux valeurs concordent.')"
   ]
  },
  {
   "cell_type": "markdown",
   "metadata": {},
   "source": [
    "## Visualisation du résultat\n",
    "\n",
    "Pour que le test soit vérifié, il faudrait que les deux intervalles de confiance se recoupent."
   ]
  },
  {
   "cell_type": "code",
   "execution_count": null,
   "metadata": {},
   "outputs": [],
   "source": [
    "import matplotlib as mpl\n",
    "import matplotlib.pyplot as plt\n",
    "from matplotlib.lines import Line2D\n",
    "fig = plt.figure(figsize=(15,8))\n",
    "gs = fig.add_gridspec(1, 1,hspace=0.25)\n",
    "ax1 = fig.add_subplot(gs[0,0])\n",
    "colors = ['#377eb8','#e41a1c']\n",
    "#tracé des valeurs trouvées\n",
    "for i,name in enumerate(series):\n",
    "    zs = values[i]\n",
    "    ax1.scatter(zs,np.ones(zs.size)*1,marker='+',label='mesures',color=colors[i])\n",
    "    #tracé de la moyenne expérimentale\n",
    "    ax1.plot([stats[name]['z_moy']],[1.05],marker='o',color=colors[i],lw=3)\n",
    "    ax1.plot([stats[name]['z_moy']-t_theo*stats[name]['sigma_z_moy'],stats[name]['z_moy']+t_theo*stats[name]['sigma_z_moy']],1.05*np.ones(2),marker='|',ms=20,label='intervalle',color=colors[i])\n",
    "\n",
    "\n",
    "#Option pour rendre le graphique plus simple\n",
    "ax1.set_frame_on(False)\n",
    "ax1.set_ylim(0.9,1.2)\n",
    "ax1.axes.get_yaxis().set_visible(False)\n",
    "ax1.axes.get_xaxis().set_visible(True)\n",
    "xmin, xmax = ax1.get_xaxis().get_view_interval()\n",
    "ymin, ymax = ax1.get_yaxis().get_view_interval()\n",
    "ax1.add_artist(Line2D((xmin, xmax), (ymin, ymin), color='black', linewidth=2))\n",
    "plt.legend()\n",
    "plt.show()"
   ]
  },
  {
   "cell_type": "markdown",
   "metadata": {},
   "source": [
    "## Méthode automatique\n",
    "\n",
    "On peut aller plus vite pour faire la comparaison avec la fonction préconstruite correspondante."
   ]
  },
  {
   "cell_type": "code",
   "execution_count": null,
   "metadata": {},
   "outputs": [],
   "source": [
    "import scipy\n",
    "import scipy.stats as stats\n",
    "val,p = stats.ttest_ind(zsA, zsB, equal_var=False)\n",
    "\n",
    "#valeur de t_exp\n",
    "print('t_exp {}'.format(np.abs(val)))\n",
    "#probabilité d'affirmer par erreur qu'il n'y a pas égalité entre les valeurs mesurées et la valeur théorique\n",
    "print('p {}'.format(p) )  \n",
    "if 1-p>seuil:\n",
    "    print('À priori, les deux valeurs ne concordent pas.')\n",
    "else:\n",
    "    print('À priori, les deux valeurs concordent.')\n",
    "\n",
    "print('seuil critique qui changera la conclusion du test : {:.9f}'.format(1-p))\n",
    "\n"
   ]
  },
  {
   "cell_type": "code",
   "execution_count": null,
   "metadata": {},
   "outputs": [],
   "source": []
  }
 ],
 "metadata": {
  "kernelspec": {
   "display_name": "Python 3",
   "language": "python",
   "name": "python3"
  },
  "language_info": {
   "codemirror_mode": {
    "name": "ipython",
    "version": 3
   },
   "file_extension": ".py",
   "mimetype": "text/x-python",
   "name": "python",
   "nbconvert_exporter": "python",
   "pygments_lexer": "ipython3",
   "version": "3.7.6"
  }
 },
 "nbformat": 4,
 "nbformat_minor": 4
}
