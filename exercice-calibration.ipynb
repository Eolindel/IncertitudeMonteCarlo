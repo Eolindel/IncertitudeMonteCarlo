{
 "cells": [
  {
   "cell_type": "markdown",
   "metadata": {},
   "source": [
    "# Droite d'étalonnage"
   ]
  },
  {
   "cell_type": "code",
   "execution_count": 1,
   "metadata": {},
   "outputs": [],
   "source": [
    "import numpy as np\n",
    "import scipy\n",
    "import scipy.stats as stats\n",
    "import matplotlib as mpl\n",
    "import matplotlib.pyplot as plt\n",
    "from scipy.stats import t\n",
    "from packaging import version\n",
    "\n",
    "etalonnage = np.array([2 , 130,254,392,511,624,3,130,255,387,509,625])\n",
    "gamme =np.array([0 , 0.5 , 1, 1.5,2,2.5,0 , 0.5 , 1, 1.5,2,2.5])\n",
    "x_i = gamme\n",
    "y_i = etalonnage"
   ]
  },
  {
   "cell_type": "markdown",
   "metadata": {},
   "source": [
    "# Question 1,2\n",
    "\n",
    "## Méthode automatique"
   ]
  },
  {
   "cell_type": "code",
   "execution_count": 2,
   "metadata": {},
   "outputs": [
    {
     "name": "stdout",
     "output_type": "stream",
     "text": [
      "a : 250.57142857142856 u_a 1.8674439586710003\n",
      "b : 5.285714285714334 u_b 2.826983681363738\n"
     ]
    },
    {
     "data": {
      "text/plain": [
       "<matplotlib.collections.PathCollection at 0x7f736b798fd0>"
      ]
     },
     "execution_count": 2,
     "metadata": {},
     "output_type": "execute_result"
    },
    {
     "data": {
      "image/png": "[encoded data removed]",
      "text/plain": [
       "<Figure size 1080x576 with 2 Axes>"
      ]
     },
     "metadata": {
      "needs_background": "light"
     },
     "output_type": "display_data"
    }
   ],
   "source": [
    "fig = plt.figure(figsize=(15,8))\n",
    "gs = fig.add_gridspec(3, 1,hspace=0.25)\n",
    "\n",
    "#droite\n",
    "ax1 = fig.add_subplot(gs[0:2,0])\n",
    "#points expérimentaux\n",
    "ax1.scatter(gamme,etalonnage,marker='+')\n",
    "#modélisation par une droite affine\n",
    "coeffs = np.polyfit(gamme,etalonnage,1) #plus basique mais peut-être connu\n",
    "coeffs2 = stats.linregress(gamme,etalonnage) #plus sophistiqué mais plus complet\n",
    "a,b,r,p,ua=coeffs2\n",
    "\n",
    "#on affiche l'incertitude sur l'ordonnée à l'origine uniquement pour les versions pas trop vieilles de scipy\n",
    "if version.parse(scipy. __version__) > version.parse('1.6') :\n",
    "    #il manque l'incertitude sur l'ordonnée à l'origine pour les versions de scipy inférieures à 1.6\n",
    "    ub=coeffs2.intercept_stderr\n",
    "    print('a : {} u_a {}\\nb : {} u_b {}'.format(a,ua,b,ub))\n",
    "else:\n",
    "    print('a : {} u_a {}\\nb : {} '.format(a,ua,b))\n",
    "\n",
    "\n",
    "#tracé de la droite correspondant à la modélisation\n",
    "xs = np.linspace(np.min(gamme),np.max(gamme),2)\n",
    "ys = np.polyval(coeffs,xs)\n",
    "ax1.plot(xs,ys)\n",
    "\n",
    "#résidus\n",
    "ax2 = fig.add_subplot(gs[2,0])\n",
    "ax2.scatter(gamme,etalonnage-np.polyval(coeffs,gamme),marker='+')\n"
   ]
  },
  {
   "cell_type": "markdown",
   "metadata": {},
   "source": [
    "## Méthode manuelle"
   ]
  },
  {
   "cell_type": "code",
   "execution_count": 3,
   "metadata": {},
   "outputs": [
    {
     "name": "stdout",
     "output_type": "stream",
     "text": [
      "a : 250.57142857142856 u_a 1.8674439586706455\n",
      "b : 5.285714285714334 u_b 2.8269836813632008\n"
     ]
    }
   ],
   "source": [
    "#Formule 6.11\n",
    "u_yi = np.std(y_i-a*x_i-b,ddof=2)\n",
    "\n",
    "#Formule 6.8\n",
    "upDelta = np.var(x_i)*x_i.size**2\n",
    "\n",
    "#Formule 6.12\n",
    "ua_man = np.sqrt( u_yi**2 /(np.var(x_i)*x_i.size) ) \n",
    "# u_yi*np.sqrt( x_i.size/upDelta )\n",
    "\n",
    "#Formule 6.13\n",
    "ub_man = np.sqrt( u_yi**2 *np.sum(x_i**2)/(np.var(x_i)*x_i.size**2) ) \n",
    "# u_yi*np.sqrt(np.sum(x_i**2)/upDelta )\n",
    "\n",
    "print('a : {} u_a {}\\nb : {} u_b {}'.format(a,ua_man,b,ub_man))"
   ]
  },
  {
   "cell_type": "markdown",
   "metadata": {},
   "source": [
    "# Question 3"
   ]
  },
  {
   "cell_type": "code",
   "execution_count": 4,
   "metadata": {},
   "outputs": [
    {
     "name": "stdout",
     "output_type": "stream",
     "text": [
      "coefficient de student 2.23\n",
      "b = 5±6 (95%)\n"
     ]
    }
   ],
   "source": [
    "intervalle = 0.95\n",
    "student = t.interval(intervalle,x_i.size-2)\n",
    "print('coefficient de student {:.2f}'.format(student[1]))\n",
    "print('b = {:.0f}±{:.0f} ({:.0f}%)'.format(b,ub*student[1],intervalle*100))"
   ]
  },
  {
   "cell_type": "markdown",
   "metadata": {},
   "source": [
    "# Question 4"
   ]
  },
  {
   "cell_type": "code",
   "execution_count": 5,
   "metadata": {},
   "outputs": [
    {
     "name": "stdout",
     "output_type": "stream",
     "text": [
      "a : 253.4545454545455 u_a 1.1667829357826804\n",
      "u_y : 6.118661334714105\n"
     ]
    }
   ],
   "source": [
    "#régression linéaire au lieu d'avoir une régression affine\n",
    "gamme2=gamme[:,np.newaxis]\n",
    "coefflin=np.linalg.lstsq(gamme2,etalonnage,rcond=None)\n",
    "abis = coefflin[0][0]\n",
    "#print(coefflin)\n",
    "\n",
    "#Formule 6 du TD, \n",
    "# coefflin[1][0] = np.square(y_i-a*x_i).sum()\n",
    "u_yi = np.sqrt(coefflin[1][0]/(x_i.size-1))\n",
    "u_abis = u_yi*np.sqrt( np.sum(x_i**2)/(np.sum(x_i**2)**2) )\n",
    "\n",
    "print('a : {} u_a {}'.format(abis,u_abis))\n",
    "print('u_y : {}'.format(u_yi))"
   ]
  },
  {
   "cell_type": "markdown",
   "metadata": {},
   "source": [
    "# Question 5"
   ]
  },
  {
   "cell_type": "code",
   "execution_count": 6,
   "metadata": {},
   "outputs": [
    {
     "name": "stdout",
     "output_type": "stream",
     "text": [
      "U0 : 482.67, u_U : 1.37, u_U0 : 0.56\n"
     ]
    }
   ],
   "source": [
    "Uis = np.array([484,481,484,483,483,481])\n",
    "#U_0\n",
    "U0 = np.average(Uis)\n",
    "sigU = np.std(Uis,ddof=1)\n",
    "sigU0 = sigU/np.sqrt(Uis.size)\n",
    "print('U0 : {:.2f}, u_U : {:.2f}, u_U0 : {:.2f}'.format(U0,sigU,sigU0))"
   ]
  },
  {
   "cell_type": "markdown",
   "metadata": {},
   "source": [
    "# Question 6"
   ]
  },
  {
   "cell_type": "code",
   "execution_count": 7,
   "metadata": {},
   "outputs": [
    {
     "name": "stdout",
     "output_type": "stream",
     "text": [
      "C_1 : 1.904e+00, u_C1/C_1 : 4.746e-03, u_C1 : 9.039e-03\n"
     ]
    }
   ],
   "source": [
    "C1 = U0/abis\n",
    "urelC1 = np.sqrt((sigU0/U0)**2+(u_abis/abis)**2)\n",
    "print('C_1 : {:.3e}, u_C1/C_1 : {:.3e}, u_C1 : {:.3e}'.format(C1,urelC1,urelC1*C1))\n"
   ]
  },
  {
   "cell_type": "markdown",
   "metadata": {},
   "source": [
    "# Question 7"
   ]
  },
  {
   "cell_type": "code",
   "execution_count": 8,
   "metadata": {
    "scrolled": true
   },
   "outputs": [
    {
     "name": "stdout",
     "output_type": "stream",
     "text": [
      "nb de degré de liberté effectif : 12.0\n",
      "coefficient de student 2.18\n",
      "C1 = 1.90±0.02 mg/L (95%)\n"
     ]
    }
   ],
   "source": [
    "urelU0 = sigU0/U0\n",
    "urela = u_abis/abis\n",
    "\n",
    "\n",
    "deglib = urelC1**4/(1/5*urelU0**4+1/11*urela**4)\n",
    "print('nb de degré de liberté effectif : {}'.format(np.floor(deglib)))\n",
    "texp = t.interval(intervalle,np.floor(deglib))[1]\n",
    "print('coefficient de student {:.2f}'.format(texp))\n",
    "UC1 = texp * urelC1*C1\n",
    "print('C1 = {:.2f}±{:.2f} mg/L ({:.0f}%)'.format(C1,UC1,intervalle*100))\n"
   ]
  },
  {
   "cell_type": "markdown",
   "metadata": {},
   "source": [
    "# Question 8"
   ]
  },
  {
   "cell_type": "code",
   "execution_count": 9,
   "metadata": {},
   "outputs": [
    {
     "name": "stdout",
     "output_type": "stream",
     "text": [
      "u_C0/C_0 : 5.058e-03\n",
      "u_C0 : 9.632e+00\n",
      "C0 = 1904.35±20.99 (95%) mg/L\n"
     ]
    }
   ],
   "source": [
    "C0 = 1000*C1\n",
    "urelC0 = np.sqrt(urelC1**2+(0.1/(100*np.sqrt(3)))**2+(0.4/(1000*np.sqrt(3)))**2+2*(0.02/(10*np.sqrt(3)))**2)\n",
    "\n",
    "print('u_C0/C_0 : {:.3e}'.format(urelC0))\n",
    "uC0 = C0*urelC0\n",
    "print('u_C0 : {:.3e}'.format(uC0))\n",
    "UC0 = texp * uC0\n",
    "print('C0 = {:.2f}±{:.2f} ({:.0f}%) mg/L'.format(C0,UC0,intervalle*100))\n"
   ]
  },
  {
   "cell_type": "markdown",
   "metadata": {},
   "source": [
    "# Méthode des ajouts dosés\n",
    "## Question 10"
   ]
  },
  {
   "cell_type": "code",
   "execution_count": 10,
   "metadata": {},
   "outputs": [
    {
     "name": "stdout",
     "output_type": "stream",
     "text": [
      "ΔC: 0.0005 g/L\n"
     ]
    }
   ],
   "source": [
    "upDeltaC = 1e-2 / 20\n",
    "print('ΔC: {} g/L'.format(upDeltaC))"
   ]
  },
  {
   "cell_type": "markdown",
   "metadata": {},
   "source": [
    "## Question 11"
   ]
  },
  {
   "cell_type": "code",
   "execution_count": 11,
   "metadata": {},
   "outputs": [
    {
     "name": "stdout",
     "output_type": "stream",
     "text": [
      "a : 106.900 u_a 4.871\n",
      "b : 300.200 u_b 11.932\n"
     ]
    },
    {
     "data": {
      "text/plain": [
       "Text(0.5, 1.0, 'Résidus')"
      ]
     },
     "execution_count": 11,
     "metadata": {},
     "output_type": "execute_result"
    },
    {
     "data": {
      "image/png": "[encoded data removed]",
      "text/plain": [
       "<Figure size 1080x576 with 2 Axes>"
      ]
     },
     "metadata": {
      "needs_background": "light"
     },
     "output_type": "display_data"
    }
   ],
   "source": [
    "x_i = np.arange(5)\n",
    "y_i = np.array([317,389,507,622,735])\n",
    "fig = plt.figure(figsize=(15,8))\n",
    "gs = fig.add_gridspec(3, 1,hspace=0.25)\n",
    "\n",
    "#droite\n",
    "ax1 = fig.add_subplot(gs[0:2,0])\n",
    "#points expérimentaux\n",
    "ax1.scatter(x_i,y_i,marker='+')\n",
    "#modélisation par une droite affine\n",
    "coeffs = np.polyfit(x_i,y_i,1)\n",
    "coeffs2 = stats.linregress(x_i,y_i)\n",
    "a,b,r,p,ua=coeffs2\n",
    "\n",
    "#on affiche l'incertitude sur l'ordonnée à l'origine uniquement pour les versions pas trop vieilles de scipy\n",
    "if version.parse(scipy. __version__) > version.parse('1.6') :\n",
    "    #il manque l'incertitude sur l'ordonnée à l'origine pour les versions de scipy inférieures à 1.6\n",
    "    ub=coeffs2.intercept_stderr\n",
    "    print('a : {:.3f} u_a {:.3f}\\nb : {:.3f} u_b {:.3f}'.format(a,ua,b,ub))\n",
    "else:\n",
    "    print('a : {:.3f} u_a {:.3f}\\nb : {:.3f} '.format(a,ua,b))\n",
    "\n",
    "\n",
    "#tracé de la droite correspondant à la modélisation\n",
    "xs = np.linspace(np.min(x_i),np.max(x_i),2)\n",
    "ys = np.polyval(coeffs,xs)\n",
    "ax1.plot(xs,ys)\n",
    "ax1.set_ylim(0,1.05*np.max(ys))\n",
    "ax1.set_title('Méthode des ajouts dosés')\n",
    "#résidus\n",
    "ax2 = fig.add_subplot(gs[2,0])\n",
    "ax2.scatter(x_i,y_i-np.polyval(coeffs,x_i),marker='+')\n",
    "ax2.set_title('Résidus')"
   ]
  },
  {
   "cell_type": "markdown",
   "metadata": {},
   "source": [
    "# Question 12"
   ]
  },
  {
   "cell_type": "code",
   "execution_count": 12,
   "metadata": {},
   "outputs": [
    {
     "name": "stdout",
     "output_type": "stream",
     "text": [
      "j0 : 2.808\n",
      "CS2: 2.808e-02 g/L\n",
      "CS0: 2.808 g/L\n"
     ]
    }
   ],
   "source": [
    "j0= b/a\n",
    "print('j0 : {:.3f}'.format(j0))\n",
    "CS2 = 20*j0*upDeltaC\n",
    "print('CS2: {:.3e} g/L'.format(CS2))\n",
    "CS0 = 100*CS2\n",
    "print('CS0: {:.3f} g/L'.format(CS0))"
   ]
  },
  {
   "cell_type": "markdown",
   "metadata": {},
   "source": [
    "# Question 13"
   ]
  },
  {
   "cell_type": "code",
   "execution_count": 13,
   "metadata": {},
   "outputs": [
    {
     "name": "stdout",
     "output_type": "stream",
     "text": [
      "0.05773502691896258\n"
     ]
    }
   ],
   "source": [
    "#incertitude absolue sur la fiole de 100mL\n",
    "u_v100=0.1/np.sqrt(3)\n",
    "print(u_v100)"
   ]
  },
  {
   "cell_type": "code",
   "execution_count": 14,
   "metadata": {},
   "outputs": [
    {
     "name": "stdout",
     "output_type": "stream",
     "text": [
      "0.008660254037844387\n"
     ]
    }
   ],
   "source": [
    "#incertitude absolue sur le volume de S2/S3 (pipette de 5mL)\n",
    "u_VS2=0.015/np.sqrt(3)\n",
    "print(u_VS2)"
   ]
  },
  {
   "cell_type": "code",
   "execution_count": 15,
   "metadata": {},
   "outputs": [
    {
     "name": "stdout",
     "output_type": "stream",
     "text": [
      "15.404544783926582\n",
      "15.404544783926582\n"
     ]
    }
   ],
   "source": [
    "#formule explicite pour 6.11\n",
    "u_Ui=np.sqrt(1/(y_i.size-2)* np.square(y_i-a*x_i-b).sum() )\n",
    "print(u_Ui)\n",
    "#formule équivalente dans ce cas\n",
    "u_Ui=np.std(y_i-a*x_i-b,ddof=2)\n",
    "print(u_Ui)"
   ]
  },
  {
   "cell_type": "code",
   "execution_count": 16,
   "metadata": {},
   "outputs": [
    {
     "name": "stdout",
     "output_type": "stream",
     "text": [
      "6.889121859859929\n"
     ]
    }
   ],
   "source": [
    "#incertitude sur la valeur moyenne de U_i pour les différents points\n",
    "u_moyUi = 1/np.sqrt(5)*u_Ui\n",
    "print(u_moyUi)"
   ]
  },
  {
   "cell_type": "code",
   "execution_count": 17,
   "metadata": {},
   "outputs": [
    {
     "name": "stdout",
     "output_type": "stream",
     "text": [
      "u_CS2 : 0.0022849150030143533\n",
      "aaaaaaa\n",
      "pipettes 4.731700154275478e-09\n",
      "moyenne 4.153099379485293e-07\n",
      "pente 4.800794932897277e-06\n",
      "total 5.220836571000082e-06\n",
      "aaaaa\n",
      "u_CS2/C_S2 : 0.08136489467762638\n"
     ]
    }
   ],
   "source": [
    "u_CS2 = np.sqrt(2*(CS2*u_VS2/5)**2+(20*0.5e-3/a*u_moyUi)**2+(20/(a**2)*0.5e-3*514*ua)**2 ) \n",
    "print('u_CS2 : {}'.format(u_CS2))\n",
    "\n",
    "print('aaaaaaa')\n",
    "#Contribution de l'incertitude sur les volumes prélevés à la fiole\n",
    "print('pipettes {}'.format(2*(CS2*u_VS2/5)**2))\n",
    "#Contribution de l'incertitude sur la valeur moyenne de la gamme\n",
    "print('moyenne {}'.format((20*0.5e-3/a*u_moyUi)**2))\n",
    "#Contribution de l'incertitude sur la pente\n",
    "print('pente {}'.format((20/(a**2)*0.5e-3*514*ua)**2))\n",
    "#incertitude au carré\n",
    "print('total {}'.format(u_CS2**2))\n",
    "print('aaaaa')\n",
    "urel_CS2=u_CS2/CS2\n",
    "print('u_CS2/C_S2 : {}'.format(urel_CS2))"
   ]
  },
  {
   "cell_type": "code",
   "execution_count": 18,
   "metadata": {},
   "outputs": [
    {
     "name": "stdout",
     "output_type": "stream",
     "text": [
      "u_CS0/C_S0: 0.08137341551494505\n",
      "u_CS0: 0.22851542878939668\n"
     ]
    }
   ],
   "source": [
    "urel_CS0 = np.sqrt(urel_CS2**2+(0.4/(1000*np.sqrt(3)))**2+(0.02/(10*np.sqrt(3)))**2)\n",
    "print('u_CS0/C_S0: {}'.format(urel_CS0))\n",
    "u_CS0 = urel_CS0*CS0\n",
    "print('u_CS0: {}'.format(u_CS0))"
   ]
  },
  {
   "cell_type": "markdown",
   "metadata": {},
   "source": [
    "# Question 14"
   ]
  },
  {
   "cell_type": "code",
   "execution_count": 19,
   "metadata": {},
   "outputs": [
    {
     "name": "stdout",
     "output_type": "stream",
     "text": [
      "cofficient de student : 3.182446305284263\n"
     ]
    }
   ],
   "source": [
    "taj = t.interval(0.95,3)[1]\n",
    "print('cofficient de student : {}'.format(taj))"
   ]
  },
  {
   "cell_type": "code",
   "execution_count": 20,
   "metadata": {},
   "outputs": [
    {
     "name": "stdout",
     "output_type": "stream",
     "text": [
      "C_S0 = 2.8±0.7 g/L (95%)\n"
     ]
    }
   ],
   "source": [
    "UCS0 = u_CS0*taj\n",
    "print('C_S0 = {:.1f}±{:.1f} g/L ({:.0f}%)'.format(CS0,UCS0,intervalle*100))\n"
   ]
  }
 ],
 "metadata": {
  "kernelspec": {
   "display_name": "Python 3",
   "language": "python",
   "name": "python3"
  },
  "language_info": {
   "codemirror_mode": {
    "name": "ipython",
    "version": 3
   },
   "file_extension": ".py",
   "mimetype": "text/x-python",
   "name": "python",
   "nbconvert_exporter": "python",
   "pygments_lexer": "ipython3",
   "version": "3.7.6"
  }
 },
 "nbformat": 4,
 "nbformat_minor": 4
}
