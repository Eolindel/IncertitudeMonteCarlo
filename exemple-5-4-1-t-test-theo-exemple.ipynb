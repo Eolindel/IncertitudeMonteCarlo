{
 "cells": [
  {
   "cell_type": "markdown",
   "metadata": {},
   "source": [
    "Ce cahier numérique est à disposition sous licence CC-BY-NC-SA. Il a été écrit par Martin Vérot pour les étudiants en L3 de l'ENS de Lyon au sein du département Sciences de la matière. Cette activité vient en complément du [polycopié de cours](http://agregationchimie.free.fr/cours.php#incertitudes). \n",
    "\n",
    "# t-test : accord entre une série de mesure et une valeur de référence\n",
    "\n",
    "Par exemple, si avec une balance on mesure la masse d'un poids étalon de 100 g et on cherche à vérifier que le poids donné est correct. On trouve comme résultats à partir de 7 mesures : $[90,1; 98,2; 105,1; 92,4; 93,6; 94,4; 90,1]$.\n",
    "\n",
    "\n",
    "## Méthode manuelle\n",
    "\n",
    "* $z_0$ est la valeur de référence\n",
    "* $zs$ correspond aux mesures effectuées\n",
    "* $seuil$ est la valeur critique choisie pour trancher s'il y a égalité ou non"
   ]
  },
  {
   "cell_type": "code",
   "execution_count": 1,
   "metadata": {},
   "outputs": [
    {
     "name": "stdout",
     "output_type": "stream",
     "text": [
      "z_moy 94.843, écart-type sur la moyenne 2.007\n",
      "t_exp 2.5695848557985186, t_theo 2.4469118487916806\n",
      "À priori, les deux valeurs ne concordent pas.\n"
     ]
    }
   ],
   "source": [
    "import numpy as np\n",
    "from scipy.stats import t\n",
    "#valeur théorique\n",
    "z0 = 100\n",
    "#valeurs\n",
    "zs = np.array([90.1,98.2,105.1,92.4,93.6,94.4,90.1])\n",
    "#seuil !!! ce choix est arbitraire, il est couramment pris égal à 0.05 \n",
    "#mais ce seuil n'a pas de signification intrinsèque.\n",
    "seuil = 0.95\n",
    "\n",
    "\n",
    "#étape 1 : calcul de la moyenne et de l'écart-type sur la moyenne\n",
    "n = zs.size #nombre de degrés de liberté \n",
    "z_moy = np.average(zs)\n",
    "sigma_zs = np.std(zs,ddof=1)\n",
    "sigma_z_moy = sigma_zs/np.sqrt(n)\n",
    "#étape 2 : calcul de la valeur de t_exp\n",
    "t_exp = np.abs(z_moy-z0)/sigma_z_moy\n",
    "\n",
    "#étape 3 : calcul de la valeur de référence à l'aide de la distribution de student pour le seuil choisi\n",
    "t_theo = t.interval(seuil,n-1)[1]\n",
    "\n",
    "print('z_moy {:.3f}, écart-type sur la moyenne {:.3f}'.format(z_moy,sigma_z_moy))\n",
    "print('t_exp {}, t_theo {}'.format(t_exp,t_theo))\n",
    "#étape 4 : comparaison des deux valeurs\n",
    "if t_exp>t_theo:\n",
    "    print('À priori, les deux valeurs ne concordent pas.')\n",
    "else:\n",
    "    print('À priori, les deux valeurs concordent.')"
   ]
  },
  {
   "cell_type": "markdown",
   "metadata": {},
   "source": [
    "l'hypothèse nulle est fausse, la masse indiquée par la balance ne correspond pas à la valeur attendue (la balance peut être fausse, ou ... le poids peut ne pas faire 100 g!).\n",
    "\n",
    "## Visualisation du résultat\n",
    "\n",
    "Pour que le test soit vérifié, il faudrait que la valeur théorique symbolisée par une barre rouge soit à l'intérieur de l'intervalle donné par la barre bleue. Si ce n'est pas le cas, alors il n'y a pas égalité."
   ]
  },
  {
   "cell_type": "code",
   "execution_count": 2,
   "metadata": {},
   "outputs": [
    {
     "data": {
      "image/png": "[encoded data removed]",
      "text/plain": [
       "<Figure size 1080x576 with 1 Axes>"
      ]
     },
     "metadata": {
      "needs_background": "light"
     },
     "output_type": "display_data"
    }
   ],
   "source": [
    "import matplotlib as mpl\n",
    "import matplotlib.pyplot as plt\n",
    "from matplotlib.lines import Line2D\n",
    "fig = plt.figure(figsize=(15,8))\n",
    "gs = fig.add_gridspec(1, 1,hspace=0.25)\n",
    "ax1 = fig.add_subplot(gs[0,0])\n",
    "#tracé des valeurs trouvées\n",
    "ax1.scatter(zs,np.ones(zs.size)*1,marker='+',label='mesures',color='#377eb8')\n",
    "\n",
    "#tracé de la moyenne expérimentale\n",
    "ax1.plot([z_moy],[1.05],marker='o',color='#377eb8',lw=3)\n",
    "ax1.plot([z_moy-t_theo*sigma_z_moy,z_moy+t_theo*sigma_z_moy],1.05*np.ones(2),marker='|',ms=20,label='intervalle',color='#377eb8')\n",
    "\n",
    "#tracé de la moyenne théorique\n",
    "ax1.plot(z0*np.ones(2),[0.95,1.15],label='valeur de référence',color='#e41a1c',lw=3)\n",
    "\n",
    "#Option pour rendre le graphique plus simple\n",
    "ax1.set_frame_on(False)\n",
    "ax1.set_ylim(0.9,1.2)\n",
    "ax1.axes.get_yaxis().set_visible(False)\n",
    "ax1.axes.get_xaxis().set_visible(True)\n",
    "xmin, xmax = ax1.get_xaxis().get_view_interval()\n",
    "ymin, ymax = ax1.get_yaxis().get_view_interval()\n",
    "ax1.add_artist(Line2D((xmin, xmax), (ymin, ymin), color='black', linewidth=2))\n",
    "plt.legend()\n",
    "plt.show()"
   ]
  },
  {
   "cell_type": "markdown",
   "metadata": {},
   "source": [
    "## Méthode automatique\n",
    "\n",
    "Ici, la méthode est appliquée pas à pas tel que décrite dans le polycopié, mais il est possible d'aller plus vite avec des fonctions pré-construites"
   ]
  },
  {
   "cell_type": "code",
   "execution_count": 3,
   "metadata": {},
   "outputs": [
    {
     "name": "stdout",
     "output_type": "stream",
     "text": [
      "t_exp 2.5695848557985186\n",
      "p 0.0423586592008936\n",
      "À priori, les deux valeurs ne concordent pas.\n",
      "seuil critique qui changera la conclusion du test : 0.958\n"
     ]
    }
   ],
   "source": [
    "import scipy\n",
    "import scipy.stats\n",
    "val,p = scipy.stats.ttest_1samp(zs, z0)\n",
    "#valeur de t_exp\n",
    "print('t_exp {}'.format(np.abs(val)))\n",
    "#probabilité d'affirmer par erreur qu'il n'y a pas égalité entre les valeurs mesurées et la valeur théorique\n",
    "print('p {}'.format(p) )  \n",
    "if 1-p>seuil:\n",
    "    print('À priori, les deux valeurs ne concordent pas.')\n",
    "else:\n",
    "    print('À priori, les deux valeurs concordent.')\n",
    "\n",
    "print('seuil critique qui changera la conclusion du test : {:.3f}'.format(1-p))\n"
   ]
  },
  {
   "cell_type": "markdown",
   "metadata": {},
   "source": [
    "Il est possible de trouver la valeur de p calculée par python pour la méthode manuelle avec le code suivant (aux erreurs numériques près) :"
   ]
  },
  {
   "cell_type": "code",
   "execution_count": 4,
   "metadata": {},
   "outputs": [
    {
     "name": "stdout",
     "output_type": "stream",
     "text": [
      "p 0.042358658944138705 écart 2.5675489512266836e-10\n"
     ]
    }
   ],
   "source": [
    "def FindP(seuil,n,t_exp):    \n",
    "    return t.interval(seuil,n-1)[1]-t_exp\n",
    "#recherche du seuil pour lequel la distribution de student est égale à la valeur t_exp    \n",
    "p_manuel =1-scipy.optimize.brentq(FindP,0,1,args = (n,t_exp))\n",
    "\n",
    "#écart entre la valeur donnée par la fonction scipy.stats.ttest_1samp et la valeur calculée par recherche de zéro\n",
    "print('p {} écart {}'.format(p_manuel,p-p_manuel))\n",
    "\n"
   ]
  },
  {
   "cell_type": "code",
   "execution_count": null,
   "metadata": {},
   "outputs": [],
   "source": []
  }
 ],
 "metadata": {
  "kernelspec": {
   "display_name": "Python 3 (ipykernel)",
   "language": "python",
   "name": "python3"
  },
  "language_info": {
   "codemirror_mode": {
    "name": "ipython",
    "version": 3
   },
   "file_extension": ".py",
   "mimetype": "text/x-python",
   "name": "python",
   "nbconvert_exporter": "python",
   "pygments_lexer": "ipython3",
   "version": "3.9.13"
  }
 },
 "nbformat": 4,
 "nbformat_minor": 4
}
