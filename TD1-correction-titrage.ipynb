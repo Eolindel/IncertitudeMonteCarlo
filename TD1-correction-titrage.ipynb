{
 "cells": [
  {
   "cell_type": "code",
   "execution_count": 1,
   "metadata": {},
   "outputs": [],
   "source": [
    "import numpy as np\n",
    "import scipy\n",
    "import scipy.stats as stats\n",
    "import matplotlib as mpl\n",
    "import matplotlib.pyplot as plt\n",
    "from scipy.stats import t"
   ]
  },
  {
   "cell_type": "markdown",
   "metadata": {},
   "source": [
    "## Question 7 \n",
    "* Calcul de la pureté des de l'incertitude-type associée"
   ]
  },
  {
   "cell_type": "code",
   "execution_count": 2,
   "metadata": {},
   "outputs": [
    {
     "name": "stdout",
     "output_type": "stream",
     "text": [
      "P : 0.9975 u_P : 1.4434e-03 u_P/P : 1.4470e-03\n"
     ]
    }
   ],
   "source": [
    "P = 0.9975\n",
    "u_P = 0.0025/np.sqrt(3)\n",
    "urel_P = u_P/P\n",
    "print('P : {:.4f} u_P : {:.4e} u_P/P : {:.4e}'.format(P,u_P,urel_P))"
   ]
  },
  {
   "cell_type": "markdown",
   "metadata": {},
   "source": [
    "* Calcul de l'incertitude sur la masse"
   ]
  },
  {
   "cell_type": "code",
   "execution_count": 3,
   "metadata": {},
   "outputs": [
    {
     "name": "stdout",
     "output_type": "stream",
     "text": [
      "m_CaCO3 : 5.0298 u_m : 2.3452e-04 u_m/m : 4.6626e-05\n"
     ]
    }
   ],
   "source": [
    "m_CaCO3 = 5.0298\n",
    "u_m = 1e-3*np.sqrt(2*(0.1**2+(0.1/(2*np.sqrt(3)))**2 + (0.1/np.sqrt(3))**2 + (0.2/np.sqrt(3))**2))\n",
    "urel_m = u_m/m_CaCO3\n",
    "print('m_CaCO3 : {:.4f} u_m : {:.4e} u_m/m : {:.4e}'.format(m_CaCO3,u_m,urel_m))"
   ]
  },
  {
   "cell_type": "markdown",
   "metadata": {},
   "source": [
    "* Calcul de l'incertitude sur la masse molaire"
   ]
  },
  {
   "cell_type": "code",
   "execution_count": 4,
   "metadata": {},
   "outputs": [
    {
     "name": "stdout",
     "output_type": "stream",
     "text": [
      "M_CaCO3 : 100.0860 u_M : 3.1091e-03 u_M/M : 3.1065e-05\n"
     ]
    }
   ],
   "source": [
    "M_CaCO3 = 40.078+12.011+3*15.999\n",
    "u_M = np.sqrt( (0.004/np.sqrt(3))**2 + (0.002/np.sqrt(3))**2 + (3*0.001/np.sqrt(3))**2)\n",
    "urel_M = u_M/M_CaCO3\n",
    "print('M_CaCO3 : {:.4f} u_M : {:.4e} u_M/M : {:.4e}'.format(M_CaCO3,u_M,urel_M))"
   ]
  },
  {
   "cell_type": "markdown",
   "metadata": {},
   "source": [
    "* Calcul de l'incertitude sur le volume de la fiole"
   ]
  },
  {
   "cell_type": "code",
   "execution_count": 5,
   "metadata": {},
   "outputs": [
    {
     "name": "stdout",
     "output_type": "stream",
     "text": [
      "V_fiole : 5000.0000 u_Vfiole : 3.1812e+00 u_Vfiole/V_fiole : 6.3624e-04\n"
     ]
    }
   ],
   "source": [
    "V_fiole = 5000\n",
    "u_Vfiole = np.sqrt( (1.2/np.sqrt(6))**2 + (2.0)**2 + (4.2/np.sqrt(3))**2 )\n",
    "urel_Vfiole = u_Vfiole/V_fiole\n",
    "print('V_fiole : {:.4f} u_Vfiole : {:.4e} u_Vfiole/V_fiole : {:.4e}'.format(V_fiole,u_Vfiole,urel_Vfiole))"
   ]
  },
  {
   "cell_type": "markdown",
   "metadata": {},
   "source": [
    "## Questions 8 et 9"
   ]
  },
  {
   "cell_type": "code",
   "execution_count": 6,
   "metadata": {},
   "outputs": [
    {
     "name": "stdout",
     "output_type": "stream",
     "text": [
      "C_CaCO3 : 1.0026e-02 u_CaCO3 : 1.5858e-05 u_CaCO3/C_CaCO3 : 1.5817e-03\n"
     ]
    }
   ],
   "source": [
    "C_CaCO3 = P*m_CaCO3/M_CaCO3 * 1/(V_fiole*1e-3)\n",
    "urel_CCaCO3 = np.sqrt( urel_P**2 + urel_m**2 + urel_M**2 + urel_Vfiole**2)\n",
    "u_CaCO3 = urel_CCaCO3*C_CaCO3\n",
    "print('C_CaCO3 : {:.4e} u_CaCO3 : {:.4e} u_CaCO3/C_CaCO3 : {:.4e}'.format(C_CaCO3,u_CaCO3,urel_CCaCO3))\n"
   ]
  },
  {
   "cell_type": "markdown",
   "metadata": {},
   "source": [
    "## Question 10 "
   ]
  },
  {
   "cell_type": "code",
   "execution_count": 7,
   "metadata": {
    "scrolled": true
   },
   "outputs": [],
   "source": [
    "#nom des étudiants\n",
    "students = ['Aurore', 'Olivia','Kévin','Guilhem','Thomas','Eudy','Jenifer','Émilie','Murielle','Caroline']\n",
    "\"\"\"\n",
    "Comme Jenifer est l'étudiante correspondant à l'indice 6, \n",
    "    les 12 volumes équivalents correspondants sont Ve[6,:]\n",
    "    les 6 valeurs de V2 sont Ve[6,0:7]\n",
    "    les 6 valeurs de V4 sont Ve[6,6:]\n",
    "\"\"\"\n",
    "\n",
    "#Valeurs de V2 et V4 pour tous les étudiants\n",
    "Ve = np.array([[20.9,20.8,20.8,20.8,20.8,20.8,7.9,7.8,7.8,8.,7.9,8.]\n",
    ",[20.4,20.3,20.4,20.5,20.6,20.5,7.9,7.8,7.8,7.9,8.,7.9]\n",
    ",[20.6,20.5,20.5,20.6,20.4,20.6,7.8,8.,7.9,7.9,7.8,7.9]\n",
    ",[20.4,20.4,20.6,20.4,20.6,20.6,8.,8.,7.9,8.,7.7,8.]\n",
    ",[21.2,20.7,21.1,20.5,21.,21.,8.,7.9,8.,8.,8.1,8.,]\n",
    ",[20.5,20.6,20.6,20.5,20.6,20.9,8.3,8.3,8.,8.2,7.9,8.1]\n",
    ",[20.6,20.7,20.4,20.4,20.6,20.6,7.6,7.8,7.7,7.9,7.6,8.]\n",
    ",[20.6,20.6,20.6,20.7,20.6,20.5,7.8,7.8,8.,7.7,8.,7.7]\n",
    ",[20.7,20.6,20.6,20.4,20.6,20.4,7.9,8.,8.1,8.1,8.2,7.8]\n",
    ",[20.5,20.5,20.4,20.5,20.4,20.3,7.9,7.8,8.,8.,7.9,8.]])\n",
    "\n",
    "#initialisation de toutes les grandeurs annexes que l'on va calculer\n",
    "Vr=np.zeros((Ve.shape[0],16))\n",
    "#print(Vr)\n",
    "# 0 : V2\n",
    "# 1 : incertitude sur le volume moyen V2\n",
    "# 2 : V4\n",
    "# 3 : incertitude sur le volume moyen V4\n",
    "# 4 : u_V2 totale\n",
    "# 5 : EDTA\n",
    "# 6 : incertitude relative sur EDTA\n",
    "# 7 : incertitude absolue sur EDTA\n",
    "# 8 : u_V4 totale\n",
    "# 9 : TH\n",
    "# 10 : incertitude relative sur TH\n",
    "# 11 : incertitude absolue sur TH\n",
    "# 12 : incertitude relative sur V4\n",
    "# 13 : degrés de liberté effectifs\n",
    "# 14 : facteur de student à 95%\n",
    "# 15 : incertitude pour un intervalle de confiance à 95%"
   ]
  },
  {
   "cell_type": "code",
   "execution_count": 8,
   "metadata": {},
   "outputs": [
    {
     "name": "stdout",
     "output_type": "stream",
     "text": [
      "[0.03294318 0.03288913 0.03290133 0.03289645 0.03295808 0.03291359\n",
      " 0.03290378 0.03291113 0.03290378 0.03288669]\n",
      "0.032896445603337356\n",
      "étudiant  \t moyV2 \t\t u_V2,A \t u_V2,tot\n",
      "Aurore    \t 20,817 \t 1,667e-02 \t 3,692e-02\n",
      "Olivia    \t 20,450 \t 4,282e-02 \t 5,399e-02\n",
      "Kévin     \t 20,533 \t 3,333e-02 \t 4,684e-02\n",
      "Guilhem   \t 20,500 \t 4,472e-02 \t 5,552e-02\n",
      "Thomas    \t 20,917 \t 1,078e-01 \t 1,127e-01\n",
      "Eudy      \t 20,617 \t 6,009e-02 \t 6,852e-02\n",
      "Jenifer   \t 20,550 \t 5,000e-02 \t 5,986e-02\n",
      "Émilie    \t 20,600 \t 2,582e-02 \t 4,183e-02\n",
      "Murielle  \t 20,550 \t 5,000e-02 \t 5,986e-02\n",
      "Caroline  \t 20,433 \t 3,333e-02 \t 4,683e-02\n"
     ]
    }
   ],
   "source": [
    "#Calcul de V2\n",
    "Vr[:,0]=np.average(Ve[:,0:6],axis=1)\n",
    "#Calcul de l'incertitude sur le volume V2 moyen\n",
    "Vr[:,1]=np.std(Ve[:,0:6],ddof=1,axis=1)/np.sqrt(Ve[:,0:6].shape[1]) # =np.std(Ve[:,0:6],ddof=1,axis=1)/np.sqrt(6)\n",
    "#Calcul de l'incertitude total sur V2 (type B et type A)\n",
    "Vr[:,4]=np.sqrt( Vr[:,1]**2 + (0.03/np.sqrt(6))**2 + (2.1e-4*4*Vr[:,0]/np.sqrt(3))**2 + (0.05/np.sqrt(3))**2 )\n",
    "#Vr[:,4]=np.sqrt( Vr[:,1]**2 + (0.03/np.sqrt(6))**2 + (2.1e-4*4*Vr[:,0]/np.sqrt(3))**2 + (0.05/np.sqrt(3))**2 )\n",
    "\n",
    "V2B=np.sqrt( (0.03/np.sqrt(6))**2 + (2.1e-4*4*Vr[:,0]/np.sqrt(3))**2 + (0.05/np.sqrt(3))**2 )\n",
    "\n",
    "print(V2B)\n",
    "\n",
    "V2Bprime=np.sqrt( (0.03/np.sqrt(6))**2 + (2.1e-4*4*20.5/np.sqrt(3))**2 + (0.05/np.sqrt(3))**2 )\n",
    "print(V2Bprime)\n",
    "\n",
    "print('{:<10}\\t {} \\t\\t {} \\t {}'.format('étudiant','moyV2','u_V2,A','u_V2,tot').replace('.',','))\n",
    "for i,student in enumerate(students):\n",
    "    print('{:<10}\\t {:.3f} \\t {:.3e} \\t {:.3e}'.format(student,Vr[i,0],Vr[i,1],Vr[i,4]).replace('.',','))\n",
    "    #print('{:<10}& ${:.3f}$ & ${:.3e} $ &$ {:.3e}$ \\\\\\\\'.format(student,Vr[i,0],Vr[i,1],Vr[i,4]).replace('.',',').replace('e-','\\\\cdot 10 ^{-'))"
   ]
  },
  {
   "cell_type": "markdown",
   "metadata": {},
   "source": [
    "## Questions 11 et 12"
   ]
  },
  {
   "cell_type": "markdown",
   "metadata": {},
   "source": [
    "## Question 13"
   ]
  },
  {
   "cell_type": "code",
   "execution_count": 9,
   "metadata": {},
   "outputs": [
    {
     "name": "stdout",
     "output_type": "stream",
     "text": [
      "V1 : 2.0000e+01 u_V1 : 1.5623e-02 u_V1/V1 : 7.8115e-04\n",
      "étudiant  \t [EDTA] \t uEDTA/[EDTA] \t u_EDTA\n",
      "Aurore    \t 9,633e-03 \t 2,501e-03 \t 2,410e-05\n",
      "Olivia    \t 9,805e-03 \t 3,175e-03 \t 3,113e-05\n",
      "Kévin     \t 9,765e-03 \t 2,884e-03 \t 2,816e-05\n",
      "Guilhem   \t 9,781e-03 \t 3,232e-03 \t 3,161e-05\n",
      "Thomas    \t 9,586e-03 \t 5,669e-03 \t 5,434e-05\n",
      "Eudy      \t 9,726e-03 \t 3,762e-03 \t 3,659e-05\n",
      "Jenifer   \t 9,757e-03 \t 3,405e-03 \t 3,323e-05\n",
      "Émilie    \t 9,734e-03 \t 2,690e-03 \t 2,618e-05\n",
      "Murielle  \t 9,757e-03 \t 3,405e-03 \t 3,323e-05\n",
      "Caroline  \t 9,813e-03 \t 2,892e-03 \t 2,838e-05\n"
     ]
    }
   ],
   "source": [
    "V1 = 20\n",
    "u_V1 = np.sqrt( (0.03/np.sqrt(6))**2 + (2.1e-4 * 4 * V1 / np.sqrt(3))**2 )\n",
    "#u_V1 = np.sqrt( (0.03/np.sqrt(3))**2 + (2.1e-4 * 4 * V1 / np.sqrt(3))**2 )\n",
    "urel_V1 = u_V1/V1\n",
    "print('V1 : {:.4e} u_V1 : {:.4e} u_V1/V1 : {:.4e}'.format(V1,u_V1,urel_V1))\n",
    "#Calcul de [EDTA]\n",
    "Vr[:,5]=C_CaCO3*20/Vr[:,0]\n",
    "#u_[EDTA]/[EDTA]\n",
    "Vr[:,6]=np.sqrt(urel_CCaCO3**2 + urel_V1**2 + (Vr[:,4]/Vr[:,0])**2)\n",
    "#u_[EDTA]\n",
    "Vr[:,7]=Vr[:,6]*Vr[:,5]\n",
    "print('{:<10}\\t {} \\t {} \\t {}'.format('étudiant','[EDTA]','uEDTA/[EDTA]','u_EDTA').replace('.',','))\n",
    "for i,student in enumerate(students):\n",
    "    print('{:<10}\\t {:.3e} \\t {:.3e} \\t {:.3e}'.format(student,Vr[i,5],Vr[i,6],Vr[i,7]).replace('.',','))\n",
    "    #print('{:<10}& ${:.3e}$ &$ {:.3e} $&$ {:.3e}$\\\\\\\\'.format(student,Vr[i,5],Vr[i,6],Vr[i,7]).replace('.',',').replace('e-','\\\\cdot 10 ^{-'))"
   ]
  },
  {
   "cell_type": "code",
   "execution_count": 10,
   "metadata": {},
   "outputs": [
    {
     "name": "stdout",
     "output_type": "stream",
     "text": [
      "étudiant  \t moyV4 \t u_V4,A \t u_V4,tot\n",
      "Aurore    \t 7,900 \t 3,651e-02 \t 4,981e-02\n",
      "Olivia    \t 7,883 \t 3,073e-02 \t 4,574e-02\n",
      "Kévin     \t 7,883 \t 3,073e-02 \t 4,574e-02\n",
      "Guilhem   \t 7,933 \t 4,944e-02 \t 5,994e-02\n",
      "Thomas    \t 8,000 \t 2,582e-02 \t 4,260e-02\n",
      "Eudy      \t 8,133 \t 6,667e-02 \t 7,479e-02\n",
      "Jenifer   \t 7,767 \t 6,667e-02 \t 7,478e-02\n",
      "Émilie    \t 7,833 \t 5,578e-02 \t 6,526e-02\n",
      "Murielle  \t 8,017 \t 6,009e-02 \t 6,899e-02\n",
      "Caroline  \t 7,933 \t 3,333e-02 \t 4,753e-02\n"
     ]
    }
   ],
   "source": [
    "#V_4\n",
    "Vr[:,2]=np.average(Ve[:,6:],axis=1)\n",
    "#u_V_4,A\n",
    "Vr[:,3]=np.std(Ve[:,6:],ddof=1,axis=1)/np.sqrt(Ve[:,0:6].shape[1])\n",
    "#u_V_4 total\n",
    "Vr[:,4]=np.sqrt(Vr[:,1]**2+(0.03/np.sqrt(6))**2+(2.1e-4*4*Vr[:,0]/np.sqrt(3))**2+(0.05/np.sqrt(3))**2)\n",
    "#u_V_4 total\n",
    "Vr[:,8]=np.sqrt(Vr[:,3]**2+(0.03/np.sqrt(3))**2+(2.1e-4*4*Vr[:,2]/np.sqrt(3))**2+(0.05/np.sqrt(3))**2)\n",
    "#Vr[:,8]=np.sqrt(Vr[:,3]**2+(2.1e-4*4*Vr[:,2]/np.sqrt(3))**2+(0.05/np.sqrt(12))**2)\n",
    "\n",
    "#u_V_4/V_4\n",
    "Vr[:,12]=Vr[:,8]/Vr[:,2]\n",
    "\n",
    "print('{:<10}\\t {} \\t {} \\t {}'.format('étudiant','moyV4','u_V4,A','u_V4,tot').replace('.',','))\n",
    "for i,student in enumerate(students):\n",
    "    print('{:<10}\\t {:.3f} \\t {:.3e} \\t {:.3e}'.format(student,Vr[i,2],Vr[i,3],Vr[i,8]).replace('.',','))\n",
    "    #print('{:<10}& ${:.3f}$ & ${:.3e} $ &$ {:.3e}$ \\\\\\\\'.format(student,Vr[i,2],Vr[i,3],Vr[i,8]).replace('.',',').replace('e-','\\\\cdot 10 ^{-'))"
   ]
  },
  {
   "cell_type": "markdown",
   "metadata": {},
   "source": [
    "## Questions 14 et 15"
   ]
  },
  {
   "cell_type": "code",
   "execution_count": 11,
   "metadata": {},
   "outputs": [
    {
     "name": "stdout",
     "output_type": "stream",
     "text": [
      "V3 : 5.0000e+01 u_V3 : 3.1696e-02 u_V3/V3 : 6.3393e-04\n",
      "étudiant  \t TH \t\t urel_TH \t\t u_TH\n",
      "Aurore    \t 15,219 \t 6,813e-03 \t 1,037e-01\n",
      "Olivia    \t 15,460 \t 6,645e-03 \t 1,027e-01\n",
      "Kévin     \t 15,397 \t 6,510e-03 \t 1,002e-01\n",
      "Guilhem   \t 15,520 \t 8,242e-03 \t 1,279e-01\n",
      "Thomas    \t 15,338 \t 7,804e-03 \t 1,197e-01\n",
      "Eudy      \t 15,821 \t 9,956e-03 \t 1,575e-01\n",
      "Jenifer   \t 15,157 \t 1,023e-02 \t 1,551e-01\n",
      "Émilie    \t 15,250 \t 8,777e-03 \t 1,339e-01\n",
      "Murielle  \t 15,645 \t 9,277e-03 \t 1,451e-01\n",
      "Caroline  \t 15,570 \t 6,683e-03 \t 1,041e-01\n"
     ]
    }
   ],
   "source": [
    "\n",
    "V3 = 50\n",
    "u_V3 = np.sqrt( (0.05/np.sqrt(6))**2 + (2.1e-4 * 4 * V3 / np.sqrt(3))**2 )\n",
    "#u_V3 = np.sqrt( (0.05/np.sqrt(3))**2 + (2.1e-4 * 4 * V3 / np.sqrt(3))**2 )\n",
    "urel_V3 = u_V3/V3\n",
    "print('V3 : {:.4e} u_V3 : {:.4e} u_V3/V3 : {:.4e}'.format(V3,u_V3,urel_V3))\n",
    "\n",
    "#Calcul de TH\n",
    "Vr[:,9]=1e4*Vr[:,5]*Vr[:,2]/V3\n",
    "#u_TH/TH\n",
    "Vr[:,10]=np.sqrt(Vr[:,6]**2 + urel_V3**2 + Vr[:,12]**2)\n",
    "#u_TH\n",
    "Vr[:,11]=Vr[:,10]*Vr[:,9]\n",
    "\n",
    "print('{:<10}\\t {} \\t\\t {} \\t\\t {}'.format('étudiant','TH','urel_TH','u_TH').replace('.',','))\n",
    "for i,student in enumerate(students):\n",
    "    print('{:<10}\\t {:.3f} \\t {:.3e} \\t {:.3e}'.format(student,Vr[i,9],Vr[i,10],Vr[i,11]).replace('.',','))\n",
    "    #print('{:<10}& ${:.3f}$ & ${:.3e} $ &$ {:.3e}$ \\\\\\\\'.format(student,Vr[i,9],Vr[i,10],Vr[i,11]).replace('.',',').replace('e-','\\\\cdot 10 ^{-'))"
   ]
  },
  {
   "cell_type": "markdown",
   "metadata": {},
   "source": [
    "## Questions 16 et 17"
   ]
  },
  {
   "cell_type": "code",
   "execution_count": 12,
   "metadata": {
    "scrolled": false
   },
   "outputs": [
    {
     "name": "stdout",
     "output_type": "stream",
     "text": [
      "étudiant  \t nu_eff \tstudent\t U_TH\t TH final\n",
      "Aurore     \t 23         \t 2,069 \t 0,215 \t 15,22±0,22 (95%)\n",
      "Olivia     \t 38         \t 2,024 \t 0,208 \t 15,46±0,21 (95%)\n",
      "Kévin      \t 37         \t 2,026 \t 0,203 \t 15,40±0,21 (95%)\n",
      "Guilhem    \t 15         \t 2,131 \t 0,273 \t 15,52±0,28 (95%)\n",
      "Thomas     \t 22         \t 2,074 \t 0,248 \t 15,34±0,25 (95%)\n",
      "Eudy       \t 10         \t 2,228 \t 0,351 \t 15,82±0,36 (95%)\n",
      "Jenifer    \t 10         \t 2,228 \t 0,346 \t 15,16±0,35 (95%)\n",
      "Émilie     \t 11         \t 2,201 \t 0,295 \t 15,25±0,30 (95%)\n",
      "Murielle   \t 11         \t 2,201 \t 0,319 \t 15,64±0,32 (95%)\n",
      "Caroline   \t 31         \t 2,040 \t 0,212 \t 15,57±0,22 (95%)\n"
     ]
    }
   ],
   "source": [
    "#nu_eff\n",
    "Vr[:,13] = np.floor((Vr[:,10]**4)/((2/5000)**4/9+(Vr[:,1]/Vr[:,0])**4/5+(Vr[:,3]/Vr[:,2])**4/5))\n",
    "#facteur de student\n",
    "Vr[:,14]=t.interval(0.95,Vr[:,13])[1]\n",
    "#U_TH\n",
    "Vr[:,15] = Vr[:,14]*Vr[:,11]\n",
    "print('{:<10}\\t {} \\t{}\\t {}\\t {}'.format('étudiant','nu_eff','student','U_TH','TH final').replace('.',','))\n",
    "for i,student in enumerate(students):\n",
    "    print('{:<10} \\t {:<10.0f} \\t {:.3f} \\t {:.3f} \\t {:.2f}±{:.2f} (95%)'.format(student,Vr[i,13],Vr[i,14],Vr[i,15],Vr[i,9],np.ceil(Vr[i,14]*Vr[i,11]*100)/100).replace('.',',') )\n",
    "    #print('{:<10} & {:<10.0f} & {:.3f} & {:.3f} & ${:.2f} \\\\pm {:.2f}$ (95\\%) \\\\\\\\'.format(student,Vr[i,13],Vr[i,14],Vr[i,15],Vr[i,9],np.ceil(Vr[i,14]*Vr[i,11]*100)/100).replace('.',',') )\n",
    "# print('{:<10}\\t {} \\t{}\\t\\t {}'.format('étudiant','Vfiole','V2','V4').replace('.',','))\n",
    "# for i,student in enumerate(students):\n",
    "#     print('{:<10} \\t {:.4e} \\t {:.3e} \\t {:.3e} '.format(student,(2/5000),(Vr[i,1]/Vr[i,0]),Vr[i,3]/Vr[i,2]).replace('.',',') )"
   ]
  },
  {
   "cell_type": "code",
   "execution_count": 13,
   "metadata": {},
   "outputs": [],
   "source": [
    "#print(Vr)\n",
    "# 0 : V2\n",
    "# 1 : incertitude sur le volume moyen V2\n",
    "# 2 : V4\n",
    "# 3 : incertitude sur le volume moyen V4\n",
    "# 4 : u_V2 totale\n",
    "# 5 : EDTA\n",
    "# 6 : incertitude relative sur EDTA\n",
    "# 7 : incertitude absolue sur EDTA\n",
    "# 8 : u_V4 totale\n",
    "# 9 : TH\n",
    "# 10 : incertitude relative sur TH\n",
    "# 11 : incertitude absolue sur TH\n",
    "# 12 : incertitude relative sur V4\n",
    "# 13 : degrés de liberté effectifs\n",
    "# 14 : facteur de student à 95%\n",
    "# 15 : incertitude pour un intervalle de confiance à 95%\n"
   ]
  },
  {
   "cell_type": "code",
   "execution_count": 14,
   "metadata": {},
   "outputs": [
    {
     "name": "stdout",
     "output_type": "stream",
     "text": [
      "student    \t uA,relV2    \t uA,relV4   \n",
      "Aurore     \t 8.006e-04 \t 4.622e-03\n",
      "Olivia     \t 2.094e-03 \t 3.898e-03\n",
      "Kévin      \t 1.623e-03 \t 3.898e-03\n",
      "Guilhem    \t 2.182e-03 \t 6.232e-03\n",
      "Thomas     \t 5.152e-03 \t 3.227e-03\n",
      "Eudy       \t 2.915e-03 \t 8.197e-03\n",
      "Jenifer    \t 2.433e-03 \t 8.584e-03\n",
      "Émilie     \t 1.253e-03 \t 7.121e-03\n",
      "Murielle   \t 2.433e-03 \t 7.496e-03\n",
      "Caroline   \t 1.631e-03 \t 4.202e-03\n"
     ]
    }
   ],
   "source": [
    "#u_V2,A/V2 \n",
    "#u_V4,A/V4 \n",
    "print('{:<10} \\t {:<10}  \\t {:<10} '.format('student','uA,relV2','uA,relV4'))\n",
    "for i,student in enumerate(students):\n",
    "    print('{:<10} \\t {:.3e} \\t {:.3e}'.format(student,float(Vr[i,1]/Vr[i,0]),float(Vr[i,3]/Vr[i,2])))\n"
   ]
  },
  {
   "cell_type": "markdown",
   "metadata": {},
   "source": [
    "## Question 18"
   ]
  },
  {
   "cell_type": "code",
   "execution_count": 21,
   "metadata": {},
   "outputs": [
    {
     "name": "stdout",
     "output_type": "stream",
     "text": [
      "t_exp\n",
      "[[0.    1.646 1.23  1.824 0.751 3.19  0.336 0.179 2.384 2.389]\n",
      " [1.646 0.    0.437 0.366 0.769 1.921 1.628 1.244 1.04  0.757]\n",
      " [1.23  0.437 0.    0.756 0.375 2.271 1.301 0.88  1.404 1.201]\n",
      " [1.824 0.366 0.756 0.    1.035 1.485 1.806 1.458 0.645 0.307]\n",
      " [0.751 0.769 0.375 1.035 0.    2.439 0.927 0.494 1.628 1.463]\n",
      " [3.19  1.921 2.271 1.485 2.439 0.    3.005 2.764 0.823 1.327]\n",
      " [0.336 1.628 1.301 1.806 0.927 3.005 0.    0.454 2.297 2.215]\n",
      " [0.179 1.244 0.88  1.458 0.494 2.764 0.454 0.    2.    1.891]\n",
      " [2.384 1.04  1.404 0.645 1.628 0.823 2.297 2.    0.    0.416]\n",
      " [2.389 0.757 1.201 0.307 1.463 1.327 2.215 1.891 0.416 0.   ]]\n",
      "Aurore\t\t0,000 1,646 1,230 1,824 0,751 3,190 0,336 0,179 2,384 2,389\n",
      "Olivia\t\t1,646 0,000 0,437 0,366 0,769 1,921 1,628 1,244 1,040 0,757\n",
      "Kévin\t\t1,230 0,437 0,000 0,756 0,375 2,271 1,301 0,880 1,404 1,201\n",
      "Guilhem\t\t1,824 0,366 0,756 0,000 1,035 1,485 1,806 1,458 0,645 0,307\n",
      "Thomas\t\t0,751 0,769 0,375 1,035 0,000 2,439 0,927 0,494 1,628 1,463\n",
      "Eudy\t\t3,190 1,921 2,271 1,485 2,439 0,000 3,005 2,764 0,823 1,327\n",
      "Jenifer\t\t0,336 1,628 1,301 1,806 0,927 3,005 0,000 0,454 2,297 2,215\n",
      "Émilie\t\t0,179 1,244 0,880 1,458 0,494 2,764 0,454 0,000 2,000 1,891\n",
      "Murielle\t\t2,384 1,040 1,404 0,645 1,628 0,823 2,297 2,000 0,000 0,416\n",
      "Caroline\t\t2,389 0,757 1,201 0,307 1,463 1,327 2,215 1,891 0,416 0,000\n"
     ]
    }
   ],
   "source": [
    "ttest = np.zeros((len(students),len(students),3))\n",
    "for i,student in enumerate(students):\n",
    "    #Calcul de t_exp\n",
    "    ttest[:,i,0] = np.abs(Vr[:,9]-Vr[i,9])/np.sqrt(Vr[:,11]**2+Vr[i,11]**2)\n",
    "    #Calcul de nu\n",
    "    ttest[:,i,1] =  np.floor( (Vr[:,11]**2+Vr[i,11]**2)**2/(Vr[:,11]**4/(Vr[:,13])+Vr[i,11]**4/(Vr[i,13])) )\n",
    "#Calcul de t_theo\n",
    "ttest[:,:,2] = t.interval(0.95,ttest[:,:,1])[1]      \n",
    "np.set_printoptions(precision=3, edgeitems=None, linewidth=200)\n",
    "print('t_exp')\n",
    "print(ttest[:,:,0])\n",
    "for i,student in enumerate(students):\n",
    "    #print('{} &{:.3f}&{:.3f}&{:.3f}&{:.3f}&{:.3f}&{:.3f}&{:.3f}&{:.3f}&{:.3f}&{:.3f}\\\\\\\\'.format(student,*ttest[i,:,0]).replace('.',','))\n",
    "    print('{}\\t\\t{:.3f} {:.3f} {:.3f} {:.3f} {:.3f} {:.3f} {:.3f} {:.3f} {:.3f} {:.3f}'.format(student,*ttest[i,:,0]).replace('.',','))\n",
    "\n",
    "\n"
   ]
  },
  {
   "cell_type": "code",
   "execution_count": 22,
   "metadata": {},
   "outputs": [
    {
     "name": "stdout",
     "output_type": "stream",
     "text": [
      "nu\n",
      "[[46. 57. 55. 32. 43. 18. 19. 24. 22. 52.]\n",
      " [57. 75. 74. 34. 50. 19. 19. 25. 23. 68.]\n",
      " [55. 74. 73. 33. 49. 18. 19. 24. 22. 66.]\n",
      " [32. 34. 33. 29. 34. 21. 21. 24. 24. 34.]\n",
      " [43. 50. 49. 34. 44. 21. 21. 26. 25. 48.]\n",
      " [18. 19. 18. 21. 21. 20. 19. 20. 20. 19.]\n",
      " [19. 19. 19. 21. 21. 19. 20. 20. 20. 19.]\n",
      " [24. 25. 24. 24. 26. 20. 20. 22. 21. 25.]\n",
      " [22. 23. 22. 24. 25. 20. 20. 21. 22. 23.]\n",
      " [52. 68. 66. 34. 48. 19. 19. 25. 23. 62.]]\n",
      "Aurore\t46 57 55 32 43 18 19 24 22 52\\\\\n",
      "Olivia\t57 75 74 34 50 19 19 25 23 68\\\\\n",
      "Kévin\t55 74 73 33 49 18 19 24 22 66\\\\\n",
      "Guilhem\t32 34 33 29 34 21 21 24 24 34\\\\\n",
      "Thomas\t43 50 49 34 44 21 21 26 25 48\\\\\n",
      "Eudy\t18 19 18 21 21 20 19 20 20 19\\\\\n",
      "Jenifer\t19 19 19 21 21 19 20 20 20 19\\\\\n",
      "Émilie\t24 25 24 24 26 20 20 22 21 25\\\\\n",
      "Murielle\t22 23 22 24 25 20 20 21 22 23\\\\\n",
      "Caroline\t52 68 66 34 48 19 19 25 23 62\\\\\n"
     ]
    }
   ],
   "source": [
    "print('nu')\n",
    "print(ttest[:,:,1])\n",
    "for i,student in enumerate(students):\n",
    "    #print('{} &{:.0f}&{:.0f}&{:.0f}&{:.0f}&{:.0f}&{:.0f}&{:.0f}&{:.0f}&{:.0f}&{:.0f}\\\\\\\\'.format(student,*ttest[i,:,1]).replace('.',','))\n",
    "    print('{}\\t{:.0f} {:.0f} {:.0f} {:.0f} {:.0f} {:.0f} {:.0f} {:.0f} {:.0f} {:.0f}\\\\\\\\'.format(student,*ttest[i,:,1]).replace('.',','))"
   ]
  },
  {
   "cell_type": "code",
   "execution_count": 17,
   "metadata": {},
   "outputs": [
    {
     "name": "stdout",
     "output_type": "stream",
     "text": [
      "t_theo\n",
      "[[2.013 2.002 2.004 2.037 2.017 2.101 2.093 2.064 2.074 2.007]\n",
      " [2.002 1.992 1.993 2.032 2.009 2.093 2.093 2.06  2.069 1.995]\n",
      " [2.004 1.993 1.993 2.035 2.01  2.101 2.093 2.064 2.074 1.997]\n",
      " [2.037 2.032 2.035 2.045 2.032 2.08  2.08  2.064 2.064 2.032]\n",
      " [2.017 2.009 2.01  2.032 2.015 2.08  2.08  2.056 2.06  2.011]\n",
      " [2.101 2.093 2.101 2.08  2.08  2.086 2.093 2.086 2.086 2.093]\n",
      " [2.093 2.093 2.093 2.08  2.08  2.093 2.086 2.086 2.086 2.093]\n",
      " [2.064 2.06  2.064 2.064 2.056 2.086 2.086 2.074 2.08  2.06 ]\n",
      " [2.074 2.069 2.074 2.064 2.06  2.086 2.086 2.08  2.074 2.069]\n",
      " [2.007 1.995 1.997 2.032 2.011 2.093 2.093 2.06  2.069 1.999]]\n",
      "Aurore &2,013&2,002&2,004&2,037&2,017&2,101&2,093&2,064&2,074&2,007\\\\\n",
      "Olivia &2,002&1,992&1,993&2,032&2,009&2,093&2,093&2,060&2,069&1,995\\\\\n",
      "Kévin &2,004&1,993&1,993&2,035&2,010&2,101&2,093&2,064&2,074&1,997\\\\\n",
      "Guilhem &2,037&2,032&2,035&2,045&2,032&2,080&2,080&2,064&2,064&2,032\\\\\n",
      "Thomas &2,017&2,009&2,010&2,032&2,015&2,080&2,080&2,056&2,060&2,011\\\\\n",
      "Eudy &2,101&2,093&2,101&2,080&2,080&2,086&2,093&2,086&2,086&2,093\\\\\n",
      "Jenifer &2,093&2,093&2,093&2,080&2,080&2,093&2,086&2,086&2,086&2,093\\\\\n",
      "Émilie &2,064&2,060&2,064&2,064&2,056&2,086&2,086&2,074&2,080&2,060\\\\\n",
      "Murielle &2,074&2,069&2,074&2,064&2,060&2,086&2,086&2,080&2,074&2,069\\\\\n",
      "Caroline &2,007&1,995&1,997&2,032&2,011&2,093&2,093&2,060&2,069&1,999\\\\\n"
     ]
    }
   ],
   "source": [
    "print('t_theo')\n",
    "print(ttest[:,:,2])\n",
    "\n",
    "for i,student in enumerate(students):\n",
    "    print('{} &{:.3f}&{:.3f}&{:.3f}&{:.3f}&{:.3f}&{:.3f}&{:.3f}&{:.3f}&{:.3f}&{:.3f}\\\\\\\\'.format(student,*ttest[i,:,2]).replace('.',','))\n"
   ]
  },
  {
   "cell_type": "code",
   "execution_count": 18,
   "metadata": {},
   "outputs": [
    {
     "name": "stdout",
     "output_type": "stream",
     "text": [
      "Résultat du test\n",
      "[[ True  True  True  True  True False  True  True False False]\n",
      " [ True  True  True  True  True  True  True  True  True  True]\n",
      " [ True  True  True  True  True False  True  True  True  True]\n",
      " [ True  True  True  True  True  True  True  True  True  True]\n",
      " [ True  True  True  True  True False  True  True  True  True]\n",
      " [False  True False  True False  True False False  True  True]\n",
      " [ True  True  True  True  True False  True  True False False]\n",
      " [ True  True  True  True  True False  True  True  True  True]\n",
      " [False  True  True  True  True  True False  True  True  True]\n",
      " [False  True  True  True  True  True False  True  True  True]]\n",
      "\tAurore\tOlivia\tKévin\tGuilhem\tThomas\tEudy\tJenifer\tÉmilie\tMurielle\tCaroline\n",
      "Aurore\t✓\t✓\t✓\t✓\t✓\t×\t✓\t✓\t×\t\t×\n",
      "Olivia\t \t✓\t✓\t✓\t✓\t✓\t✓\t✓\t✓\t\t✓\n",
      "Kévin\t \t \t✓\t✓\t✓\t×\t✓\t✓\t✓\t\t✓\n",
      "Guilhem\t \t \t \t✓\t✓\t✓\t✓\t✓\t✓\t\t✓\n",
      "Thomas\t \t \t \t \t✓\t×\t✓\t✓\t✓\t\t✓\n",
      "Eudy\t \t \t \t \t \t✓\t×\t×\t✓\t\t✓\n",
      "Jenifer\t \t \t \t \t \t \t✓\t✓\t×\t\t×\n",
      "Émilie\t \t \t \t \t \t \t \t✓\t✓\t\t✓\n",
      "Murielle\t \t \t \t \t \t \t \t \t✓\t\t✓\n",
      "Caroline\t \t \t \t \t \t \t \t \t \t\t✓\n"
     ]
    }
   ],
   "source": [
    "print('{} &{:.0f}&{:.0f}&{:.0f}&{:.0f}&{:.0f}&{:.0f}&{:.0f}&{:.0f}&{:.0f}&{:.0f}\\\\\\\\'.format(student,*ttest[i,:,1]).replace('.',','))\n",
    "\n",
    "#Calcul de la différence\n",
    "subset = ttest[:,:,2]-ttest[:,:,0]\n",
    "\n",
    "Trues = np.empty_like(ttest[:,:,0],dtype=bool)\n",
    "Trues[:,:] = True\n",
    "Falses = np.empty_like(ttest[:,:,0],dtype=bool)\n",
    "Falses[:,:] = False\n",
    "\n",
    "#Comparaison pour voir où la différence est positive ou négative\n",
    "Result = np.where(subset>0,Trues,Falses)\n",
    "\n",
    "print('Résultat du test')\n",
    "print(Result)\n",
    "\n",
    "\n",
    "#Affichage en diagonale supérieure pour supprimer l'information redondante\n",
    "\n",
    "X=Result\n",
    "#get the upper triangular part of this matrix\n",
    "v = X[np.triu_indices(X.shape[0], k = 0)]\n",
    "# put it back into a 2D symmetric array\n",
    "size_X = X.shape[0]\n",
    "X = np.ones((size_X,size_X))*-1\n",
    "X[np.triu_indices(X.shape[0], k = 0)] = v\n",
    "\n",
    "print('\\t{}\\t{}\\t{}\\t{}\\t{}\\t{}\\t{}\\t{}\\t{}\\t{}'.format(*students))\n",
    "for i,student in enumerate(students):\n",
    "    print('{}\\t{:.0f}\\t{:.0f}\\t{:.0f}\\t{:.0f}\\t{:.0f}\\t{:.0f}\\t{:.0f}\\t{:.0f}\\t{:.0f}\\t\\t{:.0f}'.format(student,*X[i,:]).replace('-1',' ').replace('1','✓').replace('0','×'))\n"
   ]
  },
  {
   "cell_type": "code",
   "execution_count": 19,
   "metadata": {},
   "outputs": [
    {
     "data": {
      "image/png": "[encoded data removed]",
      "text/plain": [
       "<Figure size 1500x800 with 1 Axes>"
      ]
     },
     "metadata": {},
     "output_type": "display_data"
    }
   ],
   "source": [
    "#Représentation graphique des résultats\n",
    "import matplotlib as mpl\n",
    "import matplotlib.pyplot as plt\n",
    "from matplotlib.lines import Line2D\n",
    "fig = plt.figure(figsize=(15,8))\n",
    "gs = fig.add_gridspec(1, 1,hspace=0.25)\n",
    "\n",
    "xs = np.arange(len(students))\n",
    "ax1 = fig.add_subplot(gs[0,0])\n",
    "\n",
    "ax1.errorbar(xs, Vr[:,9], yerr=Vr[:,15], xerr=None,ls='',capsize=4)\n",
    "ax1.set_xticks(xs)\n",
    "ax1.set_xticklabels(students)\n",
    "plt.show()"
   ]
  },
  {
   "cell_type": "code",
   "execution_count": null,
   "metadata": {},
   "outputs": [],
   "source": []
  }
 ],
 "metadata": {
  "kernelspec": {
   "display_name": "Python 3 (ipykernel)",
   "language": "python",
   "name": "python3"
  },
  "language_info": {
   "codemirror_mode": {
    "name": "ipython",
    "version": 3
   },
   "file_extension": ".py",
   "mimetype": "text/x-python",
   "name": "python",
   "nbconvert_exporter": "python",
   "pygments_lexer": "ipython3",
   "version": "3.9.13"
  }
 },
 "nbformat": 4,
 "nbformat_minor": 4
}
