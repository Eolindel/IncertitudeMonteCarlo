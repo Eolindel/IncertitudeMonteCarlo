{
 "cells": [
  {
   "cell_type": "code",
   "execution_count": 1,
   "metadata": {},
   "outputs": [],
   "source": [
    "import numpy as np\n",
    "import scipy\n",
    "import scipy.stats as stats\n",
    "import matplotlib as mpl\n",
    "import matplotlib.pyplot as plt\n",
    "from scipy.stats import t\n",
    "from packaging import version\n",
    "intervalle = 0.95"
   ]
  },
  {
   "cell_type": "markdown",
   "metadata": {},
   "source": [
    "# Méthode des ajouts dosés\n",
    "## Question 10"
   ]
  },
  {
   "cell_type": "code",
   "execution_count": 2,
   "metadata": {},
   "outputs": [
    {
     "name": "stdout",
     "output_type": "stream",
     "text": [
      "ΔC: 0.0005 g/L\n"
     ]
    }
   ],
   "source": [
    "upDeltaC = 1e-2 / 20\n",
    "print('ΔC: {} g/L'.format(upDeltaC))"
   ]
  },
  {
   "cell_type": "markdown",
   "metadata": {},
   "source": [
    "## Question 11\n",
    "\n",
    "Comme précédemment, il est possible d'utiliser les formules 6.8 à 6.11."
   ]
  },
  {
   "cell_type": "code",
   "execution_count": 3,
   "metadata": {},
   "outputs": [
    {
     "name": "stdout",
     "output_type": "stream",
     "text": [
      "a_aj : 106.900 u_a 4.871\n",
      "b_aj : 300.200 u_b 11.932\n"
     ]
    },
    {
     "data": {
      "text/plain": [
       "Text(0.5, 1.0, 'Résidus')"
      ]
     },
     "execution_count": 3,
     "metadata": {},
     "output_type": "execute_result"
    },
    {
     "data": {
      "image/png": "[encoded data removed]",
      "text/plain": [
       "<Figure size 1080x576 with 2 Axes>"
      ]
     },
     "metadata": {
      "needs_background": "light"
     },
     "output_type": "display_data"
    }
   ],
   "source": [
    "x_i = np.arange(5)\n",
    "y_i = np.array([317,389,507,622,735])\n",
    "fig = plt.figure(figsize=(15,8))\n",
    "gs = fig.add_gridspec(3, 1,hspace=0.25)\n",
    "\n",
    "#droite\n",
    "ax1 = fig.add_subplot(gs[0:2,0])\n",
    "#points expérimentaux\n",
    "ax1.scatter(x_i,y_i,marker='+')\n",
    "#modélisation par une droite affine\n",
    "coeffs = np.polyfit(x_i,y_i,1)\n",
    "coeffs2 = stats.linregress(x_i,y_i)\n",
    "a_aj,b_aj,r,p,ua=coeffs2\n",
    "\n",
    "#on affiche l'incertitude sur l'ordonnée à l'origine uniquement pour les versions pas trop vieilles de scipy\n",
    "if version.parse(scipy.__version__) > version.parse('1.6') :\n",
    "    #il manque l'incertitude sur l'ordonnée à l'origine pour les versions de scipy inférieures à 1.6\n",
    "    ub=coeffs2.intercept_stderr\n",
    "    print('a_aj : {:.3f} u_a {:.3f}\\nb_aj : {:.3f} u_b {:.3f}'.format(a_aj,ua,b_aj,ub))\n",
    "else:\n",
    "    print('a_aj : {:.3f} u_a {:.3f}\\nb_aj : {:.3f} '.format(a_aj,ua,b_aj))\n",
    "\n",
    "\n",
    "#tracé de la droite correspondant à la modélisation\n",
    "xs = np.linspace(np.min(x_i),np.max(x_i),2)\n",
    "ys = np.polyval(coeffs,xs)\n",
    "ax1.plot(xs,ys)\n",
    "ax1.set_ylim(0,1.05*np.max(ys))\n",
    "ax1.set_title('Méthode des ajouts dosés')\n",
    "#résidus\n",
    "ax2 = fig.add_subplot(gs[2,0])\n",
    "ax2.scatter(x_i,y_i-np.polyval(coeffs,x_i),marker='+')\n",
    "ax2.set_title('Résidus')"
   ]
  },
  {
   "cell_type": "markdown",
   "metadata": {},
   "source": [
    "# Question 12"
   ]
  },
  {
   "cell_type": "code",
   "execution_count": 4,
   "metadata": {},
   "outputs": [
    {
     "name": "stdout",
     "output_type": "stream",
     "text": [
      "j0 : 2.808\n",
      "CS2: 2.808e-02 g/L\n",
      "CS0: 2.808 g/L\n"
     ]
    }
   ],
   "source": [
    "j0= b_aj/a_aj\n",
    "print('j0 : {:.3f}'.format(j0))\n",
    "CS2 = 20*j0*upDeltaC\n",
    "print('CS2: {:.3e} g/L'.format(CS2))\n",
    "CS0 = 100*CS2\n",
    "print('CS0: {:.3f} g/L'.format(CS0))"
   ]
  },
  {
   "cell_type": "markdown",
   "metadata": {},
   "source": [
    "# Question 13"
   ]
  },
  {
   "cell_type": "code",
   "execution_count": 5,
   "metadata": {},
   "outputs": [
    {
     "name": "stdout",
     "output_type": "stream",
     "text": [
      "0.008660254037844387\n"
     ]
    }
   ],
   "source": [
    "#incertitude absolue sur le volume de S2/S3 (pipette de 5mL)\n",
    "u_VS2=0.015/np.sqrt(3)\n",
    "urelVS2 = u_VS2/5\n",
    "print(u_VS2)"
   ]
  },
  {
   "cell_type": "code",
   "execution_count": 6,
   "metadata": {},
   "outputs": [
    {
     "name": "stdout",
     "output_type": "stream",
     "text": [
      "0.05773502691896258\n"
     ]
    }
   ],
   "source": [
    "#incertitude absolue sur le volume de la fiole de 100 mL\n",
    "u_V100=0.1/np.sqrt(3)\n",
    "urelV100 = u_V100/100\n",
    "print(u_V100)"
   ]
  },
  {
   "cell_type": "markdown",
   "metadata": {},
   "source": [
    "On calcule ici l'incertitude sur les différents points $U_i$ en essayant d'estimer leur incertitude-type à l'aide des résidus."
   ]
  },
  {
   "cell_type": "code",
   "execution_count": 7,
   "metadata": {},
   "outputs": [
    {
     "name": "stdout",
     "output_type": "stream",
     "text": [
      "15.404544783926582\n",
      "15.404544783926582\n"
     ]
    }
   ],
   "source": [
    "#formule explicite pour 6.11\n",
    "u_Ui=np.sqrt(1/(y_i.size-2)* np.square(y_i-a_aj*x_i-b_aj).sum() )\n",
    "print(u_Ui)\n",
    "#formule équivalente dans ce cas\n",
    "u_Ui=np.std(y_i-a_aj*x_i-b_aj,ddof=2)\n",
    "print(u_Ui)"
   ]
  },
  {
   "cell_type": "code",
   "execution_count": 8,
   "metadata": {},
   "outputs": [
    {
     "name": "stdout",
     "output_type": "stream",
     "text": [
      "6.889121859859929\n",
      "514.0\n"
     ]
    }
   ],
   "source": [
    "#incertitude sur la valeur moyenne de U_i pour les différents points\n",
    "u_moyUi = 1/np.sqrt(5)*u_Ui\n",
    "moyUi = np.average(y_i)\n",
    "urel_moyUi = u_moyUi/moyUi\n",
    "print(u_moyUi)\n",
    "print(moyUi)"
   ]
  },
  {
   "cell_type": "code",
   "execution_count": 9,
   "metadata": {},
   "outputs": [
    {
     "name": "stdout",
     "output_type": "stream",
     "text": [
      "u_CS2 : 0.00228503004694942\n",
      "u_CS2/C_S2 : 0.08136899134540074\n"
     ]
    }
   ],
   "source": [
    "u_CS2 = np.sqrt(2*(CS2*u_VS2/5)**2+2*(CS2*urelV100)**2+(20*upDeltaC/a_aj*u_moyUi)**2+(20/(a_aj**2)*upDeltaC *moyUi*ua)**2 ) \n",
    "print('u_CS2 : {}'.format(u_CS2))\n",
    "\n",
    "urel_CS2=u_CS2/CS2\n",
    "print('u_CS2/C_S2 : {}'.format(urel_CS2))"
   ]
  },
  {
   "cell_type": "code",
   "execution_count": 10,
   "metadata": {},
   "outputs": [
    {
     "name": "stdout",
     "output_type": "stream",
     "text": [
      "u_CS0/C_S0: 0.08137751175376749\n",
      "u_CS0: 0.22852693197830684\n"
     ]
    }
   ],
   "source": [
    "urel_CS0 = np.sqrt(urel_CS2**2+(0.4/(1000*np.sqrt(3)))**2+(0.02/(10*np.sqrt(3)))**2)\n",
    "print('u_CS0/C_S0: {}'.format(urel_CS0))\n",
    "u_CS0 = urel_CS0*CS0\n",
    "print('u_CS0: {}'.format(u_CS0))"
   ]
  },
  {
   "cell_type": "code",
   "execution_count": 11,
   "metadata": {},
   "outputs": [
    {
     "name": "stdout",
     "output_type": "stream",
     "text": [
      "[0.09 0.01 7.95 91.93 0.00 0.02]\n"
     ]
    },
    {
     "data": {
      "image/png": "[encoded data removed]",
      "text/plain": [
       "<Figure size 432x288 with 1 Axes>"
      ]
     },
     "metadata": {
      "needs_background": "light"
     },
     "output_type": "display_data"
    }
   ],
   "source": [
    "sources = {'pipettes':2*(CS0*u_VS2/5)**2,'fiole\\n100 mL':2*(CS0*urelV100)**2, 'moyenne Ui':((100*20*upDeltaC/a_aj*u_moyUi)**2)\\\n",
    "           , 'pente':(100*20/(a_aj**2)*upDeltaC*moyUi*ua)**2,'fiole 1L': (0.4*CS0/(1000*np.sqrt(3)))**2,'pipette\\n10mL':(0.02*CS0/(10*np.sqrt(3)))**2}\n",
    "vals = np.asarray(list(sources.values()))/u_CS0**2*100\n",
    "np.set_printoptions(precision=2,linewidth=100,floatmode='fixed',formatter={'float':lambda x:'{:.2f}'.format(x)})\n",
    "xs = np.arange(len(vals))\n",
    "print(vals)\n",
    "plt.bar(xs,vals,align='center')\n",
    "plt.xticks(xs, sources.keys())\n",
    "plt.show()"
   ]
  },
  {
   "cell_type": "markdown",
   "metadata": {},
   "source": [
    "Contribution des différentes sources d'incertitudes sur la grandeur $C_{S_0}$"
   ]
  },
  {
   "cell_type": "markdown",
   "metadata": {},
   "source": [
    "# Question 14"
   ]
  },
  {
   "cell_type": "code",
   "execution_count": 12,
   "metadata": {},
   "outputs": [
    {
     "name": "stdout",
     "output_type": "stream",
     "text": [
      "cofficient de student : 3.182\n"
     ]
    }
   ],
   "source": [
    "taj = t.interval(0.95,3)[1]\n",
    "print('cofficient de student : {:.3f}'.format(taj))"
   ]
  },
  {
   "cell_type": "code",
   "execution_count": 13,
   "metadata": {},
   "outputs": [
    {
     "name": "stdout",
     "output_type": "stream",
     "text": [
      "C_S0 = 2.8±0.7 g/L (95%)\n"
     ]
    }
   ],
   "source": [
    "UCS0 = u_CS0*taj\n",
    "print('C_S0 = {:.1f}±{:.1f} g/L ({:.0f}%)'.format(CS0,UCS0,intervalle*100))\n"
   ]
  },
  {
   "cell_type": "markdown",
   "metadata": {},
   "source": [
    "# Importance de la corrélation $a_{aj}/b_{aj}$\n",
    "\n",
    "Ici, on commencer par le calcul «naïf» avec la formule (3.12) qui porte sur la propagation entre variables non corrélées."
   ]
  },
  {
   "cell_type": "code",
   "execution_count": 14,
   "metadata": {},
   "outputs": [
    {
     "name": "stdout",
     "output_type": "stream",
     "text": [
      "urel_j0 naïf : 6.047e-02\n"
     ]
    }
   ],
   "source": [
    "#j0=b/a\n",
    "#incertitudes relatives sur a_aj et b_aj\n",
    "urel_aaj = ua/a_aj\n",
    "urel_baj = ub/b_aj\n",
    "#calcul naif de l'incertitude sans prendre en compte la corrélation\n",
    "urel_j0_naif = np.sqrt(urel_aaj**2+urel_baj**2)\n",
    "print('urel_j0 naïf : {:.3e}'.format(urel_j0_naif))"
   ]
  },
  {
   "cell_type": "markdown",
   "metadata": {},
   "source": [
    "On peut ensuite calculer la covariance entre $a_{aj}$ et $b_{aj}$ avec les formules suivantes (la formule de calcul de la covariance (2.1) ne pouvant pas être utilisée dans ce cas) :\n",
    "\\begin{align}\n",
    "\\mathrm{cov}(a,b) ={}& -\\overline{x_i} \\times u_a^2\\\\\n",
    "\\mathrm{cov}(a,b) ={}& -\\overline{x_i} \\times \\dfrac{u_{y_i}^2}{\\sum (x_i - \\overline{x_i})^2}\n",
    "\\end{align}"
   ]
  },
  {
   "cell_type": "code",
   "execution_count": 15,
   "metadata": {},
   "outputs": [
    {
     "name": "stdout",
     "output_type": "stream",
     "text": [
      "cov(a,b) : \n",
      "méthode 1 -47.460 \n",
      "méthode 2 -47.460\n",
      "coefficient de corrélation entre a_aj et b_aj -0.816\n"
     ]
    }
   ],
   "source": [
    "#Correction avec calcul explicite de la corrélation\n",
    "#on utilise deux formulation équivalentes de la covariance entre a_aj et b_aj\n",
    "moyx = np.average(x_i)\n",
    "\n",
    "covab1 = -moyx*ua**2\n",
    "covab2 = -moyx*u_Ui**2/(np.square(x_i-moyx).sum())\n",
    "\n",
    "print('cov(a,b) : \\nméthode 1 {:.3f} \\nméthode 2 {:.3f}'.format(covab1,covab2))\n",
    "#calcul du coefficient de corrélation pour voir qu'il est non nul\n",
    "raajbaj=covab1/(ua*ub)\n",
    "print('coefficient de corrélation entre a_aj et b_aj {:.3f}'.format(raajbaj))"
   ]
  },
  {
   "cell_type": "markdown",
   "metadata": {},
   "source": [
    "On peut ensuite utiliser la formule de propagation (3.18) qui prend explicitement en compte la corrélation entre variables. Cela demande de calculer la dérivée partielle de $j^0$ par rapport à $b$ et $a$, ce qui donne un terme en $-\\dfrac{(j^0)^2}{a_{aj}b_{aj}}$ :\n",
    "\\begin{align}\n",
    "j^0 ={}& \\dfrac{b}{a}\\\\\n",
    "\\dfrac{u_{j^0}}{j^0} =&{} \\sqrt{\\left(\\dfrac{u_b}{b}\\right)^2+\\left(\\dfrac{u_a}{a}\\right)^2-2\\dfrac{1}{a\\times b} \\times \\mathrm{cov}(a,b)}\n",
    "\\end{align}"
   ]
  },
  {
   "cell_type": "code",
   "execution_count": 16,
   "metadata": {},
   "outputs": [
    {
     "name": "stdout",
     "output_type": "stream",
     "text": [
      "urel_j0 corrigé méthode covariance : 8.133e-02\n"
     ]
    }
   ],
   "source": [
    "#On corrige, la derivée par rapport à a_aj est -j0/a ce qui explique le - devant la covariance\n",
    "#le facteur 2 est pour prendre en compte la double dérivée partielle \n",
    "urel_j0_corrige = np.sqrt(urel_aaj**2+urel_baj**2-2*covab1/(a_aj*b_aj))\n",
    "print('urel_j0 corrigé méthode covariance : {:.3e}'.format(urel_j0_corrige))"
   ]
  },
  {
   "cell_type": "markdown",
   "metadata": {},
   "source": [
    "Ou faire comme dans le TD en se ramenant à des variables non corrélées sur lesquelles il est possible d'utiliser la formule de propagation (3.12) entre variables non corrélées."
   ]
  },
  {
   "cell_type": "code",
   "execution_count": 17,
   "metadata": {},
   "outputs": [
    {
     "name": "stdout",
     "output_type": "stream",
     "text": [
      "urel_j0 corrigé méthode découplage : 8.133e-02\n"
     ]
    }
   ],
   "source": [
    "#Calcul plus pédestre mais équivalent où on découple explicitement b et a\n",
    "uj0 = np.sqrt((u_moyUi/a_aj)**2+(moyUi/a_aj**2)**2*ua**2)\n",
    "print('urel_j0 corrigé méthode découplage : {:.3e}'.format(uj0/j0))"
   ]
  },
  {
   "cell_type": "markdown",
   "metadata": {},
   "source": [
    "On trouve bien évidemment le même résultat dans les deux cas!\n",
    "\n",
    "### Importance de la corrélation\n",
    "\n",
    "On peut alors voir que la corrélation entre $a$ et $b$ joue pour environ 45% de l'incertitude finale ! "
   ]
  },
  {
   "cell_type": "code",
   "execution_count": 18,
   "metadata": {},
   "outputs": [
    {
     "name": "stdout",
     "output_type": "stream",
     "text": [
      "[31.40 23.89 44.72]\n"
     ]
    },
    {
     "data": {
      "image/png": "[encoded data removed]",
      "text/plain": [
       "<Figure size 432x288 with 1 Axes>"
      ]
     },
     "metadata": {
      "needs_background": "light"
     },
     "output_type": "display_data"
    }
   ],
   "source": [
    "#affichage graphique\n",
    "sources = {'a':urel_aaj**2, 'b':urel_baj**2\\\n",
    "           , 'correlation':-2*covab1/(a_aj*b_aj)}\n",
    "vals = np.asarray(list(sources.values()))/urel_j0_corrige**2*100\n",
    "xs = np.arange(len(vals))\n",
    "print(vals)\n",
    "plt.bar(xs,vals,align='center')\n",
    "plt.xticks(xs, sources.keys())\n",
    "plt.show()"
   ]
  },
  {
   "cell_type": "code",
   "execution_count": null,
   "metadata": {},
   "outputs": [],
   "source": []
  }
 ],
 "metadata": {
  "kernelspec": {
   "display_name": "Python 3 (ipykernel)",
   "language": "python",
   "name": "python3"
  },
  "language_info": {
   "codemirror_mode": {
    "name": "ipython",
    "version": 3
   },
   "file_extension": ".py",
   "mimetype": "text/x-python",
   "name": "python",
   "nbconvert_exporter": "python",
   "pygments_lexer": "ipython3",
   "version": "3.9.13"
  }
 },
 "nbformat": 4,
 "nbformat_minor": 4
}
