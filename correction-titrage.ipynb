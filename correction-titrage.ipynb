{
 "cells": [
  {
   "cell_type": "code",
   "execution_count": 1,
   "metadata": {},
   "outputs": [],
   "source": [
    "import numpy as np\n",
    "import scipy\n",
    "import scipy.stats as stats\n",
    "import matplotlib as mpl\n",
    "import matplotlib.pyplot as plt\n",
    "from scipy.stats import t"
   ]
  },
  {
   "cell_type": "markdown",
   "metadata": {},
   "source": [
    "## Question 7 \n",
    "* Calcul de la pureté des de l'incertitude-type associée"
   ]
  },
  {
   "cell_type": "code",
   "execution_count": 2,
   "metadata": {},
   "outputs": [
    {
     "name": "stdout",
     "output_type": "stream",
     "text": [
      "P : 0.9975 u_P : 1.4434e-03 u_P/P : 1.4470e-03\n"
     ]
    }
   ],
   "source": [
    "P = 0.9975\n",
    "u_P = 0.0025/np.sqrt(3)\n",
    "urel_P = u_P/P\n",
    "print('P : {:.4f} u_P : {:.4e} u_P/P : {:.4e}'.format(P,u_P,urel_P))"
   ]
  },
  {
   "cell_type": "markdown",
   "metadata": {},
   "source": [
    "* Calcul de l'incertitude sur la masse"
   ]
  },
  {
   "cell_type": "code",
   "execution_count": 3,
   "metadata": {},
   "outputs": [
    {
     "name": "stdout",
     "output_type": "stream",
     "text": [
      "m_CaCO3 : 5.0298 u_m : 2.3452e-04 u_m/m : 4.6626e-05\n"
     ]
    }
   ],
   "source": [
    "m_CaCO3 = 5.0298\n",
    "u_m = 1e-3*np.sqrt(2*(0.1**2+(0.1/(2*np.sqrt(3)))**2 + (0.1/np.sqrt(3))**2 + (0.2/np.sqrt(3))**2))\n",
    "urel_m = u_m/m_CaCO3\n",
    "print('m_CaCO3 : {:.4f} u_m : {:.4e} u_m/m : {:.4e}'.format(m_CaCO3,u_m,urel_m))"
   ]
  },
  {
   "cell_type": "markdown",
   "metadata": {},
   "source": [
    "* Calcul de l'incertitude sur la masse molaire"
   ]
  },
  {
   "cell_type": "code",
   "execution_count": 4,
   "metadata": {},
   "outputs": [
    {
     "name": "stdout",
     "output_type": "stream",
     "text": [
      "M_CaCO3 : 100.0860 u_M : 3.1091e-03 u_M/M : 3.1065e-05\n"
     ]
    }
   ],
   "source": [
    "M_CaCO3 = 40.078+12.011+3*15.999\n",
    "u_M = np.sqrt( (0.004/np.sqrt(3))**2 + (0.002/np.sqrt(3))**2 + (3*0.001/np.sqrt(3))**2)\n",
    "urel_M = u_M/M_CaCO3\n",
    "print('M_CaCO3 : {:.4f} u_M : {:.4e} u_M/M : {:.4e}'.format(M_CaCO3,u_M,urel_M))"
   ]
  },
  {
   "cell_type": "markdown",
   "metadata": {},
   "source": [
    "* Calcul de l'incertitude sur le volume de la fiole"
   ]
  },
  {
   "cell_type": "code",
   "execution_count": 5,
   "metadata": {},
   "outputs": [
    {
     "name": "stdout",
     "output_type": "stream",
     "text": [
      "V_fiole : 5000.0000 u_Vfiole : 3.1812e+00 u_Vfiole/V_fiole : 6.3624e-04\n"
     ]
    }
   ],
   "source": [
    "V_fiole = 5000\n",
    "u_Vfiole = np.sqrt( (1.2/np.sqrt(6))**2 + (2.0)**2 + (4.2/np.sqrt(3))**2 )\n",
    "urel_Vfiole = u_Vfiole/V_fiole\n",
    "print('V_fiole : {:.4f} u_Vfiole : {:.4e} u_Vfiole/V_fiole : {:.4e}'.format(V_fiole,u_Vfiole,urel_Vfiole))"
   ]
  },
  {
   "cell_type": "markdown",
   "metadata": {},
   "source": [
    "## Questions 8 et 9"
   ]
  },
  {
   "cell_type": "code",
   "execution_count": 6,
   "metadata": {},
   "outputs": [
    {
     "name": "stdout",
     "output_type": "stream",
     "text": [
      "C_CaCO3 : 1.0026e-02 u_CaCO3 : 1.5858e-05 u_CaCO3/C_CaCO3 : 1.5817e-03\n"
     ]
    }
   ],
   "source": [
    "C_CaCO3 = P*m_CaCO3/M_CaCO3 * 1/(V_fiole*1e-3)\n",
    "urel_CCaCO3 = np.sqrt( urel_P**2 + urel_m**2 + urel_M**2 + urel_Vfiole**2)\n",
    "u_CaCO3 = urel_CCaCO3*C_CaCO3\n",
    "print('C_CaCO3 : {:.4e} u_CaCO3 : {:.4e} u_CaCO3/C_CaCO3 : {:.4e}'.format(C_CaCO3,u_CaCO3,urel_CCaCO3))\n"
   ]
  },
  {
   "cell_type": "markdown",
   "metadata": {},
   "source": [
    "## Question 10 "
   ]
  },
  {
   "cell_type": "code",
   "execution_count": 7,
   "metadata": {
    "scrolled": true
   },
   "outputs": [],
   "source": [
    "#nom des étudiants\n",
    "students = ['Aurore', 'Olivia','Kévin','Guilhem','Thomas','Eudy','Jenifer','Émilie','Murielle','Caroline']\n",
    "\"\"\"\n",
    "Comme Jenifer est l'étudiante correspondant à l'indice 6, \n",
    "    les 12 volumes équivalents correspondants sont Ve[6,:]\n",
    "    les 6 valeurs de V2 sont Ve[6,0:7]\n",
    "    les 6 valeurs de V4 sont Ve[6,6:]\n",
    "\"\"\"\n",
    "\n",
    "#Valeurs de V2 et V4 pour tous les étudiants\n",
    "Ve = np.array([[20.9,20.8,20.8,20.8,20.8,20.8,7.9,7.8,7.8,8.,7.9,8.]\n",
    ",[20.4,20.3,20.4,20.5,20.6,20.5,7.9,7.8,7.8,7.9,8.,7.9]\n",
    ",[20.6,20.5,20.5,20.6,20.4,20.6,7.8,8.,7.9,7.9,7.8,7.9]\n",
    ",[20.4,20.4,20.6,20.4,20.6,20.6,8.,8.,7.9,8.,7.7,8.]\n",
    ",[21.2,20.7,21.1,20.5,21.,21.,8.,7.9,8.,8.,8.1,8.,]\n",
    ",[20.5,20.6,20.6,20.5,20.6,20.9,8.3,8.3,8.,8.2,7.9,8.1]\n",
    ",[20.6,20.7,20.4,20.4,20.6,20.6,7.6,7.8,7.7,7.9,7.6,8.]\n",
    ",[20.6,20.6,20.6,20.7,20.6,20.5,7.8,7.8,8.,7.7,8.,7.7]\n",
    ",[20.7,20.6,20.6,20.4,20.6,20.4,7.9,8.,8.1,8.1,8.2,7.8]\n",
    ",[20.5,20.5,20.4,20.5,20.4,20.3,7.9,7.8,8.,8.,7.9,8.]])\n",
    "\n",
    "#initialisation de toutes les grandeurs annexes que l'on va calculer\n",
    "Vr=np.zeros((Ve.shape[0],16))"
   ]
  },
  {
   "cell_type": "code",
   "execution_count": 8,
   "metadata": {},
   "outputs": [
    {
     "name": "stdout",
     "output_type": "stream",
     "text": [
      "étudiant  \t moyV2 \t\t u_V2,A \t u_V2,tot\n",
      "Aurore    \t 20,817 \t 1,667e-02 \t 2,717e-02\n",
      "Olivia    \t 20,450 \t 4,282e-02 \t 4,785e-02\n",
      "Kévin     \t 20,533 \t 3,333e-02 \t 3,961e-02\n",
      "Guilhem   \t 20,500 \t 4,472e-02 \t 4,957e-02\n",
      "Thomas    \t 20,917 \t 1,078e-01 \t 1,099e-01\n",
      "Eudy      \t 20,617 \t 6,009e-02 \t 6,379e-02\n",
      "Jenifer   \t 20,550 \t 5,000e-02 \t 5,438e-02\n",
      "Émilie    \t 20,600 \t 2,582e-02 \t 3,354e-02\n",
      "Murielle  \t 20,550 \t 5,000e-02 \t 5,438e-02\n",
      "Caroline  \t 20,433 \t 3,333e-02 \t 3,959e-02\n"
     ]
    }
   ],
   "source": [
    "#Calcul de V2\n",
    "Vr[:,0]=np.average(Ve[:,0:6],axis=1)\n",
    "#Calcul de l'incertitude sur le volume V2 moyen\n",
    "Vr[:,1]=np.std(Ve[:,0:6],ddof=1,axis=1)/np.sqrt(Ve[:,0:6].shape[1]) # =np.std(Ve[:,0:6],ddof=1,axis=1)/np.sqrt(6)\n",
    "#Calcul de l'incertitude total sur V2 (type B et type A)\n",
    "Vr[:,4]=np.sqrt( Vr[:,1]**2 + (0.03/np.sqrt(6))**2 + (2.1e-4*4*Vr[:,0]/np.sqrt(3))**2 + (0.05/np.sqrt(12))**2 )\n",
    "#Vr[:,4]=np.sqrt( Vr[:,1]**2 + (0.03/np.sqrt(6))**2 + (2.1e-4*4*Vr[:,0]/np.sqrt(3))**2 + (0.05/np.sqrt(12))**2 )\n",
    "\n",
    "print('{:<10}\\t {} \\t\\t {} \\t {}'.format('étudiant','moyV2','u_V2,A','u_V2,tot').replace('.',','))\n",
    "for i,student in enumerate(students):\n",
    "    print('{:<10}\\t {:.3f} \\t {:.3e} \\t {:.3e}'.format(student,Vr[i,0],Vr[i,1],Vr[i,4]).replace('.',','))"
   ]
  },
  {
   "cell_type": "markdown",
   "metadata": {},
   "source": [
    "## Questions 11 et 12"
   ]
  },
  {
   "cell_type": "markdown",
   "metadata": {},
   "source": [
    "## Question 13"
   ]
  },
  {
   "cell_type": "code",
   "execution_count": 9,
   "metadata": {},
   "outputs": [
    {
     "name": "stdout",
     "output_type": "stream",
     "text": [
      "V1 : 2.0000e+01 u_V1 : 1.5623e-02 u_V1/V1 : 7.8115e-04\n",
      "étudiant  \t [EDTA] \t u_EDTA \t uEDTA/[EDTA]\n",
      "Aurore    \t 9,633e-03 \t 2,114e-05 \t 2,194e-03\n",
      "Olivia    \t 9,805e-03 \t 2,873e-05 \t 2,930e-03\n",
      "Kévin     \t 9,765e-03 \t 2,553e-05 \t 2,614e-03\n",
      "Guilhem   \t 9,781e-03 \t 2,928e-05 \t 2,993e-03\n",
      "Thomas    \t 9,586e-03 \t 5,312e-05 \t 5,541e-03\n",
      "Eudy      \t 9,726e-03 \t 3,464e-05 \t 3,562e-03\n",
      "Jenifer   \t 9,757e-03 \t 3,103e-05 \t 3,180e-03\n",
      "Émilie    \t 9,734e-03 \t 2,337e-05 \t 2,401e-03\n",
      "Murielle  \t 9,757e-03 \t 3,103e-05 \t 3,180e-03\n",
      "Caroline  \t 9,813e-03 \t 2,571e-05 \t 2,620e-03\n"
     ]
    }
   ],
   "source": [
    "V1 = 20\n",
    "u_V1 = np.sqrt( (0.03/np.sqrt(6))**2 + (2.1e-4 * 4 * V1 / np.sqrt(3))**2 )\n",
    "#u_V1 = np.sqrt( (0.03/np.sqrt(3))**2 + (2.1e-4 * 4 * V1 / np.sqrt(3))**2 )\n",
    "urel_V1 = u_V1/V1\n",
    "print('V1 : {:.4e} u_V1 : {:.4e} u_V1/V1 : {:.4e}'.format(V1,u_V1,urel_V1))\n",
    "#Calcul de [EDTA]\n",
    "Vr[:,5]=C_CaCO3*20/Vr[:,0]\n",
    "#u_[EDTA]/[EDTA]\n",
    "Vr[:,6]=np.sqrt(urel_CCaCO3**2 + urel_V1**2 + (Vr[:,4]/Vr[:,0])**2)\n",
    "#u_[EDTA]\n",
    "Vr[:,7]=Vr[:,6]*Vr[:,5]\n",
    "print('{:<10}\\t {} \\t {} \\t {}'.format('étudiant','[EDTA]','u_EDTA','uEDTA/[EDTA]').replace('.',','))\n",
    "for i,student in enumerate(students):\n",
    "    print('{:<10}\\t {:.3e} \\t {:.3e} \\t {:.3e}'.format(student,Vr[i,5],Vr[i,7],Vr[i,6]).replace('.',','))"
   ]
  },
  {
   "cell_type": "code",
   "execution_count": 10,
   "metadata": {},
   "outputs": [
    {
     "name": "stdout",
     "output_type": "stream",
     "text": [
      "étudiant  \t moyV4 \t u_V4,A \t u_V4,tot\n",
      "Aurore    \t 7,900 \t 3,651e-02 \t 4,309e-02\n",
      "Olivia    \t 7,883 \t 3,073e-02 \t 3,831e-02\n",
      "Kévin     \t 7,883 \t 3,073e-02 \t 3,831e-02\n",
      "Guilhem   \t 7,933 \t 4,944e-02 \t 5,448e-02\n",
      "Thomas    \t 8,000 \t 2,582e-02 \t 3,450e-02\n",
      "Eudy      \t 8,133 \t 6,667e-02 \t 7,049e-02\n",
      "Jenifer   \t 7,767 \t 6,667e-02 \t 7,048e-02\n",
      "Émilie    \t 7,833 \t 5,578e-02 \t 6,028e-02\n",
      "Murielle  \t 8,017 \t 6,009e-02 \t 6,430e-02\n",
      "Caroline  \t 7,933 \t 3,333e-02 \t 4,043e-02\n"
     ]
    }
   ],
   "source": [
    "#V_4\n",
    "Vr[:,2]=np.average(Ve[:,6:],axis=1)\n",
    "#u_V_4,A\n",
    "Vr[:,3]=np.std(Ve[:,6:],ddof=1,axis=1)/np.sqrt(Ve[:,0:6].shape[1])\n",
    "#u_V_4 total\n",
    "Vr[:,4]=np.sqrt(Vr[:,1]**2+(0.03/np.sqrt(6))**2+(2.1e-4*4*Vr[:,0]/np.sqrt(3))**2+(0.05/np.sqrt(12))**2)\n",
    "#u_V_4 total\n",
    "Vr[:,8]=np.sqrt(Vr[:,3]**2+(0.03/np.sqrt(3))**2+(2.1e-4*4*Vr[:,2]/np.sqrt(3))**2+(0.05/np.sqrt(12))**2)\n",
    "#Vr[:,8]=np.sqrt(Vr[:,3]**2+(2.1e-4*4*Vr[:,2]/np.sqrt(3))**2+(0.05/np.sqrt(12))**2)\n",
    "\n",
    "#u_V_4/V_4\n",
    "Vr[:,12]=Vr[:,8]/Vr[:,2]\n",
    "\n",
    "print('{:<10}\\t {} \\t {} \\t {}'.format('étudiant','moyV4','u_V4,A','u_V4,tot').replace('.',','))\n",
    "for i,student in enumerate(students):\n",
    "    print('{:<10}\\t {:.3f} \\t {:.3e} \\t {:.3e}'.format(student,Vr[i,2],Vr[i,3],Vr[i,8]).replace('.',','))"
   ]
  },
  {
   "cell_type": "markdown",
   "metadata": {},
   "source": [
    "## Questions 14 et 15"
   ]
  },
  {
   "cell_type": "code",
   "execution_count": 11,
   "metadata": {},
   "outputs": [
    {
     "name": "stdout",
     "output_type": "stream",
     "text": [
      "V3 : 5.0000e+01 u_V3 : 3.1696e-02 u_V3/V3 : 6.3393e-04\n",
      "étudiant  \t TH \t\t u_TH \t\t urel_TH\n",
      "Aurore    \t 15,219 \t 8,999e-02 \t 5,913e-03\n",
      "Olivia    \t 15,460 \t 8,827e-02 \t 5,710e-03\n",
      "Kévin     \t 15,397 \t 8,551e-02 \t 5,554e-03\n",
      "Guilhem   \t 15,520 \t 1,167e-01 \t 7,517e-03\n",
      "Thomas    \t 15,338 \t 1,081e-01 \t 7,050e-03\n",
      "Eudy      \t 15,821 \t 1,486e-01 \t 9,391e-03\n",
      "Jenifer   \t 15,157 \t 1,461e-01 \t 9,636e-03\n",
      "Émilie    \t 15,250 \t 1,233e-01 \t 8,086e-03\n",
      "Murielle  \t 15,645 \t 1,354e-01 \t 8,652e-03\n",
      "Caroline  \t 15,570 \t 8,976e-02 \t 5,765e-03\n"
     ]
    }
   ],
   "source": [
    "\n",
    "V3 = 50\n",
    "u_V3 = np.sqrt( (0.05/np.sqrt(6))**2 + (2.1e-4 * 4 * V3 / np.sqrt(3))**2 )\n",
    "#u_V3 = np.sqrt( (0.05/np.sqrt(3))**2 + (2.1e-4 * 4 * V3 / np.sqrt(3))**2 )\n",
    "urel_V3 = u_V3/V3\n",
    "print('V3 : {:.4e} u_V3 : {:.4e} u_V3/V3 : {:.4e}'.format(V3,u_V3,urel_V3))\n",
    "\n",
    "#Calcul de TH\n",
    "Vr[:,9]=1e4*Vr[:,5]*Vr[:,2]/V3\n",
    "#u_TH/TH\n",
    "Vr[:,10]=np.sqrt(Vr[:,6]**2 + urel_V3**2 + Vr[:,12]**2)\n",
    "#u_TH\n",
    "Vr[:,11]=Vr[:,10]*Vr[:,9]\n",
    "\n",
    "print('{:<10}\\t {} \\t\\t {} \\t\\t {}'.format('étudiant','TH','u_TH','urel_TH').replace('.',','))\n",
    "for i,student in enumerate(students):\n",
    "    print('{:<10}\\t {:.3f} \\t {:.3e} \\t {:.3e}'.format(student,Vr[i,9],Vr[i,11],Vr[i,10]).replace('.',','))\n"
   ]
  },
  {
   "cell_type": "markdown",
   "metadata": {},
   "source": [
    "## Questions 16 et 17"
   ]
  },
  {
   "cell_type": "code",
   "execution_count": 12,
   "metadata": {},
   "outputs": [
    {
     "name": "stdout",
     "output_type": "stream",
     "text": [
      "étudiant  \t nu_eff \tstudent\t U_TH\t TH final\n",
      "Aurore     \t 13         \t 2,160 \t 0,194 \t 15,22±0,20 (95%)\n",
      "Olivia     \t 21         \t 2,080 \t 0,184 \t 15,46±0,19 (95%)\n",
      "Kévin      \t 19         \t 2,093 \t 0,179 \t 15,40±0,18 (95%)\n",
      "Guilhem    \t 10         \t 2,228 \t 0,260 \t 15,52±0,26 (95%)\n",
      "Thomas     \t 15         \t 2,131 \t 0,230 \t 15,34±0,24 (95%)\n",
      "Eudy       \t 8          \t 2,306 \t 0,343 \t 15,82±0,35 (95%)\n",
      "Jenifer    \t 7          \t 2,365 \t 0,345 \t 15,16±0,35 (95%)\n",
      "Émilie     \t 8          \t 2,306 \t 0,284 \t 15,25±0,29 (95%)\n",
      "Murielle   \t 8          \t 2,306 \t 0,312 \t 15,64±0,32 (95%)\n",
      "Caroline   \t 17         \t 2,110 \t 0,189 \t 15,57±0,19 (95%)\n"
     ]
    }
   ],
   "source": [
    "#nu_eff\n",
    "Vr[:,13] = np.floor((Vr[:,10]**4)/((2/5000)**4/9+(Vr[:,1]/Vr[:,0])**4/5+(Vr[:,3]/Vr[:,2])**4/5))\n",
    "#facteur de student\n",
    "Vr[:,14]=t.interval(0.95,Vr[:,13])[1]\n",
    "#U_TH\n",
    "Vr[:,15] = Vr[:,14]*Vr[:,11]\n",
    "print('{:<10}\\t {} \\t{}\\t {}\\t {}'.format('étudiant','nu_eff','student','U_TH','TH final').replace('.',','))\n",
    "for i,student in enumerate(students):\n",
    "    print('{:<10} \\t {:<10.0f} \\t {:.3f} \\t {:.3f} \\t {:.2f}±{:.2f} (95%)'.format(student,Vr[i,13],Vr[i,14],Vr[i,15],Vr[i,9],np.ceil(Vr[i,14]*Vr[i,11]*100)/100).replace('.',',') )\n",
    "# print('{:<10}\\t {} \\t{}\\t\\t {}'.format('étudiant','Vfiole','V2','V4').replace('.',','))\n",
    "# for i,student in enumerate(students):\n",
    "#     print('{:<10} \\t {:.4e} \\t {:.3e} \\t {:.3e} '.format(student,(2/5000),(Vr[i,1]/Vr[i,0]),Vr[i,3]/Vr[i,2]).replace('.',',') )"
   ]
  },
  {
   "cell_type": "code",
   "execution_count": 13,
   "metadata": {},
   "outputs": [],
   "source": [
    "#print(Vr)\n",
    "# 0 : V2\n",
    "# 1 : incertitude sur le volume moyen V2\n",
    "# 2 : V4\n",
    "# 3 : incertitude sur le volume moyen V4\n",
    "# 4 : u_V2 totale\n",
    "# 5 : EDTA\n",
    "# 6 : incertitude relative sur EDTA\n",
    "# 7 : incertitude absolue sur EDTA\n",
    "# 8 : u_V4 totale\n",
    "# 9 : TH\n",
    "# 10 : incertitude relative sur TH\n",
    "# 11 : incertitude absolue sur TH\n",
    "# 12 : incertitude relative sur V4\n",
    "# 13 : degrés de liberté effectifs\n",
    "# 14 : facteur de student à 95%\n",
    "# 15 : incertitude pour un intervalle de confiance à 95%\n"
   ]
  },
  {
   "cell_type": "markdown",
   "metadata": {},
   "source": [
    "## Question 18"
   ]
  },
  {
   "cell_type": "code",
   "execution_count": 14,
   "metadata": {},
   "outputs": [
    {
     "name": "stdout",
     "output_type": "stream",
     "text": [
      "t_exp\n",
      "[[0.    1.906 1.429 2.038 0.846 3.463 0.366 0.198 2.616 2.761]\n",
      " [1.906 0.    0.511 0.411 0.868 2.091 1.775 1.384 1.145 0.88 ]\n",
      " [1.429 0.511 0.    0.849 0.424 2.474 1.419 0.981 1.547 1.399]\n",
      " [2.038 0.411 0.849 0.    1.14  1.595 1.942 1.591 0.699 0.344]\n",
      " [0.846 0.868 0.424 1.14  0.    2.626 1.    0.541 1.767 1.651]\n",
      " [3.463 2.091 2.474 1.595 2.626 0.    3.188 2.958 0.877 1.444]\n",
      " [0.366 1.775 1.419 1.942 1.    3.188 0.    0.487 2.45  2.413]\n",
      " [0.198 1.384 0.981 1.591 0.541 2.958 0.487 0.    2.157 2.102]\n",
      " [2.616 1.145 1.547 0.699 1.767 0.877 2.45  2.157 0.    0.457]\n",
      " [2.761 0.88  1.399 0.344 1.651 1.444 2.413 2.102 0.457 0.   ]]\n",
      "nu\n",
      "[[26. 31. 30. 19. 27. 13. 12. 15. 14. 29.]\n",
      " [31. 42. 39. 21. 31. 13. 12. 16. 15. 37.]\n",
      " [30. 39. 38. 20. 30. 13. 12. 15. 14. 35.]\n",
      " [19. 21. 20. 20. 23. 16. 14. 17. 16. 21.]\n",
      " [27. 31. 30. 23. 30. 16. 14. 19. 17. 30.]\n",
      " [13. 13. 13. 16. 16. 16. 14. 15. 15. 14.]\n",
      " [12. 12. 12. 14. 14. 14. 13. 14. 14. 12.]\n",
      " [15. 16. 15. 17. 19. 15. 14. 16. 15. 16.]\n",
      " [14. 15. 14. 16. 17. 15. 14. 15. 16. 15.]\n",
      " [29. 37. 35. 21. 30. 14. 12. 16. 15. 34.]]\n",
      "t_theo\n",
      "[[2.056 2.04  2.042 2.093 2.052 2.16  2.179 2.131 2.145 2.045]\n",
      " [2.04  2.018 2.023 2.08  2.04  2.16  2.179 2.12  2.131 2.026]\n",
      " [2.042 2.023 2.024 2.086 2.042 2.16  2.179 2.131 2.145 2.03 ]\n",
      " [2.093 2.08  2.086 2.086 2.069 2.12  2.145 2.11  2.12  2.08 ]\n",
      " [2.052 2.04  2.042 2.069 2.042 2.12  2.145 2.093 2.11  2.042]\n",
      " [2.16  2.16  2.16  2.12  2.12  2.12  2.145 2.131 2.131 2.145]\n",
      " [2.179 2.179 2.179 2.145 2.145 2.145 2.16  2.145 2.145 2.179]\n",
      " [2.131 2.12  2.131 2.11  2.093 2.131 2.145 2.12  2.131 2.12 ]\n",
      " [2.145 2.131 2.145 2.12  2.11  2.131 2.145 2.131 2.12  2.131]\n",
      " [2.045 2.026 2.03  2.08  2.042 2.145 2.179 2.12  2.131 2.032]]\n",
      "Résultat du test\n",
      "[[ True  True  True  True  True False  True  True False False]\n",
      " [ True  True  True  True  True  True  True  True  True  True]\n",
      " [ True  True  True  True  True False  True  True  True  True]\n",
      " [ True  True  True  True  True  True  True  True  True  True]\n",
      " [ True  True  True  True  True False  True  True  True  True]\n",
      " [False  True False  True False  True False False  True  True]\n",
      " [ True  True  True  True  True False  True  True False False]\n",
      " [ True  True  True  True  True False  True  True False  True]\n",
      " [False  True  True  True  True  True False False  True  True]\n",
      " [False  True  True  True  True  True False  True  True  True]]\n",
      "\tAurore\tOlivia\tKévin\tGuilhem\tThomas\tEudy\tJenifer\tÉmilie\tMurielle\tCaroline\n",
      "Aurore\t✓\t✓\t✓\t✓\t✓\t×\t✓\t✓\t×\t\t×\n",
      "Olivia\t \t✓\t✓\t✓\t✓\t✓\t✓\t✓\t✓\t\t✓\n",
      "Kévin\t \t \t✓\t✓\t✓\t×\t✓\t✓\t✓\t\t✓\n",
      "Guilhem\t \t \t \t✓\t✓\t✓\t✓\t✓\t✓\t\t✓\n",
      "Thomas\t \t \t \t \t✓\t×\t✓\t✓\t✓\t\t✓\n",
      "Eudy\t \t \t \t \t \t✓\t×\t×\t✓\t\t✓\n",
      "Jenifer\t \t \t \t \t \t \t✓\t✓\t×\t\t×\n",
      "Émilie\t \t \t \t \t \t \t \t✓\t×\t\t✓\n",
      "Murielle\t \t \t \t \t \t \t \t \t✓\t\t✓\n",
      "Caroline\t \t \t \t \t \t \t \t \t \t\t✓\n"
     ]
    }
   ],
   "source": [
    "ttest = np.zeros((len(students),len(students),3))\n",
    "for i,student in enumerate(students):\n",
    "    #Calcul de t_exp\n",
    "    ttest[:,i,0] = np.abs(Vr[:,9]-Vr[i,9])/np.sqrt(Vr[:,11]**2+Vr[i,11]**2)\n",
    "    #Calcul de nu\n",
    "    ttest[:,i,1] =  np.floor( (Vr[:,11]**2+Vr[i,11]**2)**2/(Vr[:,11]**4/(Vr[:,13])+Vr[i,11]**4/(Vr[i,13])) )\n",
    "#Clcul de t_theo\n",
    "ttest[:,:,2] = t.interval(0.95,ttest[:,:,1])[1]      \n",
    "np.set_printoptions(precision=3, edgeitems=None, linewidth=200)\n",
    "print('t_exp')\n",
    "print(ttest[:,:,0])\n",
    "print('nu')\n",
    "print(ttest[:,:,1])\n",
    "print('t_theo')\n",
    "print(ttest[:,:,2])\n",
    "\n",
    "\n",
    "\n",
    "#Calcul de la différence\n",
    "subset = ttest[:,:,2]-ttest[:,:,0]\n",
    "\n",
    "Trues = np.empty_like(ttest[:,:,0],dtype=bool)\n",
    "Trues[:,:] = True\n",
    "Falses = np.empty_like(ttest[:,:,0],dtype=bool)\n",
    "Falses[:,:] = False\n",
    "\n",
    "#Comparaison pour voir où la différence est positive ou négative\n",
    "Result = np.where(subset>0,Trues,Falses)\n",
    "\n",
    "print('Résultat du test')\n",
    "print(Result)\n",
    "\n",
    "\n",
    "#Affichage en diagonale supérieure pour supprimer l'information redondante\n",
    "\n",
    "X=Result\n",
    "#get the upper triangular part of this matrix\n",
    "v = X[np.triu_indices(X.shape[0], k = 0)]\n",
    "# put it back into a 2D symmetric array\n",
    "size_X = X.shape[0]\n",
    "X = np.ones((size_X,size_X))*-1\n",
    "X[np.triu_indices(X.shape[0], k = 0)] = v\n",
    "\n",
    "print('\\t{}\\t{}\\t{}\\t{}\\t{}\\t{}\\t{}\\t{}\\t{}\\t{}'.format(*students))\n",
    "for i,student in enumerate(students):\n",
    "    print('{}\\t{:.0f}\\t{:.0f}\\t{:.0f}\\t{:.0f}\\t{:.0f}\\t{:.0f}\\t{:.0f}\\t{:.0f}\\t{:.0f}\\t\\t{:.0f}'.format(student,*X[i,:]).replace('-1',' ').replace('1','✓').replace('0','×'))\n"
   ]
  },
  {
   "cell_type": "code",
   "execution_count": 15,
   "metadata": {},
   "outputs": [
    {
     "data": {
      "image/png": "[encoded data removed]",
      "text/plain": [
       "<Figure size 1080x576 with 1 Axes>"
      ]
     },
     "metadata": {
      "needs_background": "light"
     },
     "output_type": "display_data"
    }
   ],
   "source": [
    "#Représentation graphique des résultats\n",
    "import matplotlib as mpl\n",
    "import matplotlib.pyplot as plt\n",
    "from matplotlib.lines import Line2D\n",
    "fig = plt.figure(figsize=(15,8))\n",
    "gs = fig.add_gridspec(1, 1,hspace=0.25)\n",
    "\n",
    "xs = np.arange(len(students))\n",
    "ax1 = fig.add_subplot(gs[0,0])\n",
    "\n",
    "ax1.errorbar(xs, Vr[:,9], yerr=Vr[:,15], xerr=None,ls='',capsize=4)\n",
    "ax1.set_xticks(xs)\n",
    "ax1.set_xticklabels(students)\n",
    "plt.show()"
   ]
  }
 ],
 "metadata": {
  "kernelspec": {
   "display_name": "Python 3",
   "language": "python",
   "name": "python3"
  },
  "language_info": {
   "codemirror_mode": {
    "name": "ipython",
    "version": 3
   },
   "file_extension": ".py",
   "mimetype": "text/x-python",
   "name": "python",
   "nbconvert_exporter": "python",
   "pygments_lexer": "ipython3",
   "version": "3.7.6"
  }
 },
 "nbformat": 4,
 "nbformat_minor": 4
}
