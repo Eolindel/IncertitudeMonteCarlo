{
 "cells": [
  {
   "cell_type": "markdown",
   "metadata": {},
   "source": [
    "Ce cahier numérique est à disposition sous licence CC-BY-NC-SA. Il a été écrit par Martin Vérot pour les étudiants en L3 de l'ENS de Lyon au sein du département Sciences de la matière. Cette activité vient en complément du [polycopié de cours](http://agregationchimie.free.fr/cours.php#incertitudes). \n",
    "\n",
    "[Distribution discrète](#galton)\n",
    "* [pile ou face](#galton)\n",
    "    * [tirage simple](#nvalue)\n",
    "    * [tirages multiples](#pvalue)\n",
    "    * [distribution gaussienne de la moyenne](#fitNorm)\n",
    "    * [une expérience plus visuelle](#galtonvid)\n",
    "* [Distribution binomiale](#binom)\n",
    "* [Distribution de poisson](#poisson)\n",
    "\n",
    "[Distributions continues](#continues)\n",
    "* [Distribution rectangulaire](#continues)\n",
    "    * [tirage simple](#rect1)\n",
    "    * [tirages multiples](#rect2)\n",
    "    * [distribution gaussienne de la moyenne](#rect3)\n",
    "* [Distribution triangulaire](#triang)\n",
    "    * [tirage simple](#triang1)\n",
    "    * [tirages multiples et distribution gaussienne](#triang2)\n",
    "* [Une distribution non symétrique : la distribution Gamma](#gamma)\n",
    "    * [tirage simple](#gamma1)\n",
    "    * [tirages multiples et distribution gaussienne](#gamma2)  \n",
    "* [Une distribution qui ne vérifie pas le théorème central limite : distribution de Lorentz/Cauchy](#cauchy)\n",
    "\n",
    "[Vitesse de la convergence](#convergence)\n",
    "\n",
    "\n",
    "# Démonstration intuitive du théorème de la limite centrale\n",
    "\n",
    "La distribussion gaussienne est au cœur des formules utilisées en métrologie. Et ce alors que bien souvent, les distributions des variables implicites ne sont pas forcément gaussiennes. Sans être rigoureux, le but de ce cahier est de montrer comment il est possible d'arriver à des variables de sortie gaussiennes pour des variables d'entrée qui ne le sont pas forcément.\n",
    "\n",
    "On rappelle qu'une distribution gaussienne de valeur moyenne $\\bar{z}$ et d'écart-type $\\sigma$  est donnée par :\n",
    "$$  G_{\\bar{z},\\sigma}(z)=\\dfrac{1}{\\sigma\\sqrt{2\\pi}}\\exp\\left( {-\\dfrac{\\left( z-\\bar{z} \\right)^{2}}{2\\sigma^{2}}} \\right)$$\n",
    "\n",
    "## Distribution discrète : pile ou face, ou la planche de Galton\n",
    "<span id=\"galton\"></span>\n",
    "\n",
    "L'idée est de partir du lancer d'une pièce en supposant qu'il y a 50% de chances de faire pile et 50% de chance de faire face. Le résultat pile correspond à un résultat de 1 tandis que face correspond à 0. \n",
    "\n",
    "Maintenant, au lieu de faire un unique tirage, l'idée est de faire une succession de $n$ tirages avec une valeur de $n$ relativement grande. Ensuite, nous allons additionner toutes les valeurs (le total est donc compris entre 0 et $n$) puis prendre la valeur moyenne pour avoir un résultat forcément compris entre 0 et 1 :\n",
    "$$\\bar{z}=f(z_1,...z_n)=\\dfrac{1}{n}\\sum_{i=1}^nz_i$$\n",
    "<span id=\"nvalue\"></span>"
   ]
  },
  {
   "cell_type": "code",
   "execution_count": null,
   "metadata": {},
   "outputs": [],
   "source": [
    "import numpy as np\n",
    "n = 100\n",
    "#Ici, on choisit de faire un tirage de n=100 valeurs\n",
    "premier_tirage = np.random.randint(2, size=n)\n",
    "print('{} tirages compris entre zéro et un'.format(n))\n",
    "print(premier_tirage)\n",
    "#on additionne les n valeurs et on prend la moyenne\n",
    "z0 = np.sum(premier_tirage)/n\n",
    "print('la valeur moyenne correspondante est : {:.2f}'.format(z0))"
   ]
  },
  {
   "cell_type": "markdown",
   "metadata": {},
   "source": [
    "Normalement, le résultat final devrait être proche de 0,5 mais pas forcément égal. N'hésitez pas à ré-exécuter le code ci-dessus pour voir que la valeur obtenue n'est pas fixe.\n",
    "\n",
    "Maintenant, nous allons répeter cette opération $p$ fois pour observer la distribution des résultats.<span id=\"pvalue\"></span>"
   ]
  },
  {
   "cell_type": "code",
   "execution_count": null,
   "metadata": {
    "scrolled": false
   },
   "outputs": [],
   "source": [
    "p = 1000\n",
    "zs = np.sum(np.random.randint(2, size=(n,p)), axis = 0 )/n\n",
    "\n",
    "#print('les {} résultats obtenus :'.format(p)) \n",
    "#print(zs) \n",
    "#si on veut vérifier le fait qu'il y ait bien 10000 résultats\n",
    "#print(zs.shape) \n",
    "\n",
    "\n",
    "\"\"\"\n",
    "Nous allons maintenant tracer la distribution des résultats pour les différentes valeurs moyennes trouvées.\n",
    "\"\"\"\n",
    "\n",
    "import matplotlib as mpl\n",
    "import matplotlib.pyplot as plt\n",
    "count, bins, ignored = plt.hist(zs,bins=101,range=(0.,1.),density=True)\n",
    "\"\"\"\n",
    "Relancer le tirage plusieurs fois, puis changer la valeur de p pour voir son influence.\n",
    "\n",
    "\n",
    "Pour ré-éxecuter le code, appuyer sur la touche 'haut' puis sur 'Shift+Enter'\n",
    "\"\"\"\n"
   ]
  },
  {
   "cell_type": "markdown",
   "metadata": {},
   "source": [
    "Pour $p=1000$, la distribution des résultats peut avoir une forme « bizarroïde », mais pour 10 000, 100 000 ou 1 million de tirages, la distribution devient très stable et tend vers une courbe qui est ... la distribution gaussienne. Il est intéressant d'essayer de faire le lien entre les différentes valeurs du problème et la distribution gaussienne correspondante. Il faut donc trouver la valeur moyenne et la variance des différentes valeurs.\n",
    "<span id=\"fitNorm\"></span>"
   ]
  },
  {
   "cell_type": "code",
   "execution_count": null,
   "metadata": {},
   "outputs": [],
   "source": [
    "#Moyenne de la distribution\n",
    "moyenne = np.average(zs)\n",
    "#variance de la distribution\n",
    "variance = np.var(zs,ddof=1)\n",
    "ecartType= np.std(zs,ddof=1)\n",
    "print('moyenne: {} variance : {} écart-type : {}'.format(moyenne, variance,ecartType))"
   ]
  },
  {
   "cell_type": "markdown",
   "metadata": {},
   "source": [
    "Il est possible de comparer les valeurs obtenues aux valeurs théoriques. La valeur moyenne théorique est de 0,5. Pour l'écart-type, cela demande un peu plus de travail, il faut commencer par calculer la variance :\n",
    "$$\\begin{align}\n",
    "V(z_i)={}&=\\dfrac{1}{2}\\sum_{j=1}^2(z_j-\\bar{z})^2=0,25\\\\\n",
    "V(\\bar{z})={}&\\dfrac{1}{n} \\sum_{j=1}^n V(z_i) =\\dfrac{1}{n} \\times 0,25 \\\\\n",
    "\\sigma_\\bar{z} ={}& \\sqrt{V(\\bar{z})} = \\dfrac{\\sigma_{z_i} }{\\sqrt{n}}\n",
    "\\end{align}$$\n",
    "Numériquement, les deux résulats calculés ci-dessus à partir de la distribution théorique doivent être proches de ceux trouvés numériquement.\n",
    "\n",
    "\n",
    "**De plus, ce résultat est intéressant car on peut voir que la variance sur la valeur moyenne $\\bar{z}$ décroit en $\\frac{1}{n}$, donc plus l'opération de moyenne se fait sur un grand échantillon, plus l'incertitude-type sur la valeur moyenne sera faible.** C'est un résultat très important en métrologie : plus l'échantillonage est grand, plus la valeur moyenne est connue avec une incertitude-type faible et ce quelle que soit l'incertitude-type sur les $z_i$.\n",
    "\n",
    "Il est possible de « confirmer » ce résultat en changeant la valeur de $n$ [ci-dessus](#nvalue).\n",
    "\n",
    "Maintenant que l'on a déterminé les valeurs de la gaussienne théorique correspondant à partir de la valeur moyenne et de son incertitude-type, il est possible de superposer les deux pour comparer les résultats. Normalement, plus la valeur de $p$ définie [ci-dessus](#pvalue) est grande, plus les deux grandeurs doivent être proches."
   ]
  },
  {
   "cell_type": "code",
   "execution_count": null,
   "metadata": {},
   "outputs": [],
   "source": [
    "#Tracé de l'histogramme\n",
    "plt.hist(zs,bins=101,range=(0.,1.),density=True)\n",
    "#Tracé de la gaussienne correspondant\n",
    "xs=np.linspace(0,1,1000)\n",
    "from scipy.stats import norm\n",
    "plt.plot(xs, norm.pdf(xs,loc=0.5,scale=np.sqrt(0.25/n) ) )"
   ]
  },
  {
   "cell_type": "markdown",
   "metadata": {},
   "source": [
    "<span id=\"galtonvid\"></span>\n",
    "On vient de « montrer » indirectement qu'une distribution binomiale tend vers une distribution gaussienne. C'est visualisable avec la planche de Galton (vidéo ci-dessous) où le nombre de rangées de pics correspon à la valeur de $n$ et le nombre de billes à la valeur de $p$. L'indice de la colonne étant la valeur moyenne."
   ]
  },
  {
   "cell_type": "code",
   "execution_count": null,
   "metadata": {},
   "outputs": [],
   "source": [
    "from IPython.display import YouTubeVideo\n",
    "\n",
    "YouTubeVideo('EvHiee7gs9Y', width=600, height=400)"
   ]
  },
  {
   "cell_type": "markdown",
   "metadata": {},
   "source": [
    "<span id=\"binom\"></span>\n",
    "### Généralisation pour une distribution binomiale\n",
    "La loi binomiale correspond à la probabilité d'avoir le résultat $k$ après avoir effectué $q$ tirages avec une probabilité de réussite de $r$ (en supposant qu'une réussite donne 1 et un échec 0). Si $r=0,5$, on retombe sur le cas précédent de la pièce lancée $q$ fois.\n",
    "\n",
    "$$\\mathbb{P}_{\\mathcal{B}_{q,r}}(X=k)=\\begin{pmatrix}\n",
    "q \\\\ \n",
    "k\n",
    "\\end{pmatrix} r^k(1-r)^{q-k}$$\n",
    "$$\\mathbb{E}_{\\mathcal{B}_{q,r}}=qr \\qquad\\qquad V_{\\mathcal{B}_{q,r}} = qr(1-r) \\qquad\\qquad \\sigma_{\\mathcal{B}_{q,r}} = \\sqrt{qr(1-r)}$$"
   ]
  },
  {
   "cell_type": "code",
   "execution_count": null,
   "metadata": {},
   "outputs": [],
   "source": [
    "from scipy.stats import binom\n",
    "q=10 #nombre de tirage dans la distribution binomiale\n",
    "r=0.5 #probabilité de succès\n",
    "n=100 #nombre de tirage dans la distribution binomiale pour faire la moyenne\n",
    "p=1000 #nombre de moyennes calculées\n",
    "\n",
    "premier_tirage = binom.rvs(q,r,size=n)\n",
    "count, bins, ignored = plt.hist(premier_tirage,bins=q,range=(0.,q+1),density=True)\n",
    "#affichage de la fonction de distribution théorique\n",
    "xs = np.linspace(0,q,1001)\n",
    "plt.plot(xs, binom.pmf(xs,q,0.5),'r-', lw=2, alpha=0.6)\n",
    "#on additionne les n valeurs et on prend la moyenne\n",
    "z0 = np.sum(premier_tirage)/n\n",
    "print('la valeur moyenne correspondante est : {:.2f}'.format(z0))"
   ]
  },
  {
   "cell_type": "code",
   "execution_count": null,
   "metadata": {},
   "outputs": [],
   "source": [
    "#on répète maintenant l'opération p fois\n",
    "zs = np.sum(binom.rvs(q,r,size=(n,p)), axis=0)/n\n",
    "#Moyenne de la distribution\n",
    "moyenne = np.average(zs,axis=0)\n",
    "#variance de la distribution\n",
    "variance = np.var(zs,ddof=1,axis=0)\n",
    "ecartType= np.std(zs,ddof=1,axis=0)\n",
    "#Tracé de l'histogramme\n",
    "plt.hist(zs,bins=50,range=(np.min(zs),np.max(zs)),density=True)\n",
    "#Tracé de la gaussienne correspondant\n",
    "xs = np.linspace(q*r-5* np.sqrt((q/n)*r*(1-r)),q*r+5*np.sqrt((q/n)*r*(1-r)),n+1)\n",
    "plt.plot(xs, norm.pdf(xs,q/2,np.sqrt((q/n)*r*(1-r))),'r-', lw=2, alpha=0.6)\n",
    "\n",
    "print('échantilloné moyenne: {:.3f} variance : {:.3f} écart-type : {:.3f}'.format(moyenne, variance,ecartType))\n",
    "print('théorique    moyenne: {:.3f} variance : {:.3f} écart-type : {:.3f}'.format(q/2, (q/n)*r*(1-r),np.sqrt((q/n)*r*(1-r)) ) )"
   ]
  },
  {
   "cell_type": "markdown",
   "metadata": {},
   "source": [
    "<span id=\"poison\"></span>\n",
    "### Pour la distribution de poisson\n",
    "\n",
    "La distribution de Poisson est utile pour décrire les événements rares, dont la probabilité est indépendante de l'événement précédent. Cette distribution correspond à une distribution binomiale pour laquelle on a $qr = \\mu$ avec $q$ plutôt grand et $r$ petit.\n",
    "\n",
    "$$\\mathbb{P}_{\\mathcal{P}_{\\mu}}(X=k)=\\dfrac{\\mu^k}{k!}\\mathrm{e}^{-\\mu}$$\n",
    "$$\\mathbb{E}_{\\mathcal{P}_{\\mu}}=\\mu \\qquad\\qquad V_{\\mathcal{P}_{\\mu}} = \\mu \\qquad\\qquad \\sigma_{\\mathcal{P}_{\\mu}} = \\sqrt{\\mu}$$\n",
    "Si on a 4 désintégration nucléaire qui a lieu en moyenne toutes les 5 minutes et que l'on fait une observation toutes les 15 minutes, on prendra comme valeur pour $\\mu=4\\times 3=12$."
   ]
  },
  {
   "cell_type": "code",
   "execution_count": null,
   "metadata": {},
   "outputs": [],
   "source": [
    "from scipy.stats import poisson\n",
    "n=100\n",
    "p=1000\n",
    "mu=1\n",
    "premier_tirage = poisson.rvs(mu,size=n)\n",
    "count, bins, ignored = plt.hist(premier_tirage,range=(0,8),bins=8,density=True)\n",
    "#affichage de la fonction de distribution théorique\n",
    "xs = np.linspace(0,7,701)\n",
    "plt.plot(xs, poisson.pmf(xs,mu),'r-', lw=2, alpha=0.6)\n",
    "#on additionne les n valeurs et on prend la moyenne\n",
    "z0 = np.sum(premier_tirage)/n\n",
    "print('la valeur moyenne correspondante est : {:.2f}'.format(z0))"
   ]
  },
  {
   "cell_type": "code",
   "execution_count": null,
   "metadata": {},
   "outputs": [],
   "source": [
    "#on répète maintenant l'opération p fois\n",
    "zs = np.sum(poisson.rvs(mu,size=(n,p)), axis=0)/n\n",
    "#Moyenne de la distribution\n",
    "moyenne = np.average(zs,axis=0)\n",
    "#variance de la distribution\n",
    "variance = np.var(zs,ddof=1,axis=0)\n",
    "ecartType= np.std(zs,ddof=1,axis=0)\n",
    "#Tracé de l'histogramme\n",
    "plt.hist(zs,bins=50,range=(np.min(zs),np.max(zs)),density=True)\n",
    "#Tracé de la gaussienne correspondant\n",
    "xs = np.linspace(0,5,1001)\n",
    "plt.plot(xs, norm.pdf(xs,mu,np.sqrt(mu/n)),'r-', lw=2, alpha=0.6)\n",
    "print('échantilloné moyenne: {:.3f} variance : {:.3f} écart-type : {:.3f}'.format(moyenne, variance,ecartType))\n",
    "print('théorique    moyenne: {:.3f} variance : {:.3f} écart-type : {:.3f}'.format(mu, mu/n,np.sqrt(mu/n) ) )"
   ]
  },
  {
   "cell_type": "markdown",
   "metadata": {},
   "source": [
    "## Cas des distributions continues\n",
    "<span id=\"continues\"></span>\n",
    "### Distribution rectangulaire\n",
    "Au lieu de prendre une distribution discrète, on va maintenant prendre une distribution continue : la distribution rectangulaire. \n",
    "\n",
    "La densité de probabilité est donné par :\n",
    "$$\\begin{align}\n",
    "\\rho(z) ={}& \\dfrac{1}{b-a} \\qquad\\qquad a\\leqslant x<b\\\\\n",
    "={}&0 \\qquad\\qquad\\qquad \\text{sinon}\n",
    "\\end{align}$$\n",
    "$$\\bar{z}=\\dfrac{a+b}{2}\\qquad\\qquad V = \\dfrac{(b-a)^2}{12}\\qquad\\qquad \\sigma=\\dfrac{(b-a)}{2\\sqrt{3}}$$\n",
    "Pour l'exemple, on prend un distribution uniforme sur l'intervalle $[0,1[$.\n",
    "\n",
    "<br>\n",
    "<details>\n",
    "  <summary> ** Cliquer pour voir le calcul de la variance **</summary> \n",
    "   La valeur moyenne de la distribution théorique est toujours simple à calculer : $0,5$. Par contre, pour la variance, il faut utiliser le résultat liant la largeur d'une distribution rectangulaire à son écart type :\n",
    "$$\\begin{align}V(z_i) ={}&\\dfrac{1}{b-a} \\int_a^b (z-\\bar{z})^2\\mathrm{d}\\,z = \\dfrac{1}{b-a}\\int_a^b \\left(z-\\dfrac{a+b}{2}\\right)^2\\mathrm{d}\\,z\\\\\n",
    "\\text{on pose le changement de variable $u=z-\\dfrac{a+b}{2}$}\\\\\n",
    "={}&\\dfrac{1}{b-a} \\int_{\\frac{a-b}{2}}^{\\frac{b-a}{2}} u^2\\mathrm{d}\\,u = \\dfrac{1}{b-a} \\left[\\dfrac{u^3}{3}\\right]_{\\frac{a-b}{2}}^{\\frac{b-a}{2}} = \\dfrac{\\left(b-a\\right)^2}{12}\\end{align}$$\n",
    "dans notre cas, on a donc :\n",
    "$$\\begin{align}V(\\bar{z})={}&\\dfrac{1}{12n}\\\\\n",
    "\\sigma_\\bar{z}={}& \\dfrac{1}{\\sqrt{12n}}=\\dfrac{1}{2\\sqrt{3}}\\dfrac{1}{\\sqrt{n}}\n",
    "\\end{align}$$\n",
    "</details>    \n",
    "\n",
    "\n",
    "\n",
    "<span id=\"rect1\"></span>"
   ]
  },
  {
   "cell_type": "code",
   "execution_count": null,
   "metadata": {},
   "outputs": [],
   "source": [
    "from scipy.stats import uniform\n",
    "n=100\n",
    "p=1000\n",
    "#Ici, on choisit de faire un tirage de n valeurs\n",
    "premier_tirage = uniform.rvs(0.,1., size=n)\n",
    "plt.hist(premier_tirage,bins=101,range=(0.,1.),density=True)\n",
    "#affichage de la fonction de distribution théorique\n",
    "xs = np.linspace(-0.1,1.1,1000)\n",
    "plt.plot(xs, uniform.pdf(xs,loc=0.,scale=1),'r-', lw=2, alpha=0.6, label='distribution uniforme')\n",
    "\n",
    "#on additionne les n valeurs et on prend la moyenne\n",
    "z0 = np.sum(premier_tirage)/n\n",
    "print('la valeur moyenne correspondante est : {:.2f}'.format(z0))"
   ]
  },
  {
   "cell_type": "code",
   "execution_count": null,
   "metadata": {},
   "outputs": [],
   "source": [
    "#on répète maintenant l'opération p fois\n",
    "zs = np.sum(uniform.rvs(0.,1.,size=(n,p)), axis=0)/n\n",
    "#Moyenne de la distribution\n",
    "moyenne = np.average(zs,axis=0)\n",
    "#variance de la distribution\n",
    "variance = np.var(zs,ddof=1,axis=0)\n",
    "ecartType= np.std(zs,ddof=1,axis=0)\n",
    "#Tracé de l'histogramme\n",
    "plt.hist(zs,bins=50,range=(np.min(zs),np.max(zs)),density=True)\n",
    "#Tracé de la gaussienne correspondant\n",
    "xs = np.linspace(0.5-5*1/(np.sqrt(12*n)),0.5+5*1/(np.sqrt(12*n)),1001)\n",
    "plt.plot(xs, norm.pdf(xs,loc=0.5,scale=1/(np.sqrt(12*n)) ),'r-', lw=2, alpha=0.6)\n",
    "print('échantilloné moyenne: {:.5f} variance : {:.5f} écart-type : {:.5f}'.format(moyenne, variance,ecartType))\n",
    "print('théorique    moyenne: {:.5f} variance : {:.5f} écart-type : {:.5f}'.format(0.5,1/((12*n)) ,1/(np.sqrt(12*n)) ))"
   ]
  },
  {
   "cell_type": "markdown",
   "metadata": {},
   "source": [
    "Encore une fois, on voit que pour une distribution uniforme, on tend vers une distribution gaussienne pour la moyenne de $n$ valeurs -- comme dans le cas précédent. Le plus compliqué étant de calculer la valeur de $V(z_i)$ (ou $\\sigma_{z_i}$) pour chaque cas.\n",
    "\n",
    "<span id=\"triang\"></span>\n",
    "\n",
    "### Distribution triangulaire\n",
    "Il suffit de faire la même chose en adaptant la distribution et le lien entre la variance/écart-type et la distribution.\n",
    "<span id=\"triang1\"></span>\n",
    "\n",
    "$$\\begin{equation}\n",
    " T_{\\bar{z},\\sigma}(z)=\n",
    " \\begin{cases}\n",
    "     \\dfrac{1}{\\Delta z^{2}}\\left( z-\\left( \\bar{z}-\\dfrac{\\Delta z}{2} \\right) \\right) \\quad\\quad\\quad \\bar{z}-\\dfrac{\\Delta z}{2}\\leqslant z \\leqslant \\bar{z}\\\\\n",
    "     \\dfrac{1}{\\Delta z^{2}}\\left( \\left( \\bar{z}+\\dfrac{\\Delta z}{2} \\right) -z\\right) \\quad\\quad\\quad \\bar{z}\\leqslant z \\leqslant \\bar{z}+\\dfrac{\\Delta z}{2}\n",
    "    \\end{cases}\n",
    "\\end{equation}$$\n",
    "\n",
    "Pour une distribution triangulaire centrée en $\\bar{z}$ de largeur totale $\\Delta z$"
   ]
  },
  {
   "cell_type": "code",
   "execution_count": null,
   "metadata": {},
   "outputs": [],
   "source": [
    "from scipy.stats import triang\n",
    "n=100\n",
    "p=1000\n",
    "\n",
    "#Ici, on choisit de faire un tirage de n valeurs\n",
    "premier_tirage = triang.rvs(0.5,loc=0,scale=1, size=n)\n",
    "plt.hist(premier_tirage,bins=n//10+1,range=(0.,1.),density=True)\n",
    "#affichage de la fonction de distribution théorique\n",
    "xs = np.linspace(-0.1,1.1,1000)\n",
    "plt.plot(xs, triang.pdf(xs,0.5,loc=0,scale=1),'r-', lw=2, alpha=0.6, label='distribution uniforme')\n",
    "#on additionne les n valeurs et on prend la moyenne\n",
    "z0 = np.sum(premier_tirage)/n\n",
    "print('la valeur moyenne correspondante est : {:.2f}'.format(z0))\n",
    "\"\"\"pour mieux voir le fait de tirer dans une distribution triangulaire,\n",
    " il est possible d'augmenter la valeur de n temporairement\"\"\""
   ]
  },
  {
   "cell_type": "markdown",
   "metadata": {},
   "source": [
    "Et comme précédemment, on peut faire $p$ tirages puis chercher la fonction gaussienne correspondante à partir de la valeur moyenne et de l'écart-type.\n",
    "<span id=\"triang2\"></span>"
   ]
  },
  {
   "cell_type": "code",
   "execution_count": null,
   "metadata": {},
   "outputs": [],
   "source": [
    "#on répète maintenant l'opération p fois\n",
    "zs = np.sum(triang.rvs(0.5,loc=0,scale=1,size=(n,p)), axis=0)/n\n",
    "#Moyenne de la distribution\n",
    "moyenne = np.average(zs,axis=0)\n",
    "#variance de la distribution\n",
    "variance = np.var(zs,ddof=1,axis=0)\n",
    "ecartType= np.std(zs,ddof=1,axis=0)\n",
    "#Tracé de l'histogramme\n",
    "plt.hist(zs,bins=50,range=(np.min(zs),np.max(zs)),density=True)\n",
    "#Tracé de la gaussienne correspondant\n",
    "xs = np.linspace(0.5-5*1/(np.sqrt(24*n)),0.5+5*1/(np.sqrt(24*n)),1001)\n",
    "plt.plot(xs, norm.pdf(xs,loc=0.5,scale=1/(np.sqrt(24*n)) ),'r-', lw=2, alpha=0.6)\n",
    "print('échantilloné moyenne: {:.5f} variance : {:.5f} écart-type : {:.5f}'.format(moyenne, variance,ecartType))\n",
    "print('théorique    moyenne: {:.5f} variance : {:.5f} écart-type : {:.5f}'.format(0.5,1/((24*n)) ,1/(np.sqrt(24*n)) ))"
   ]
  },
  {
   "cell_type": "markdown",
   "metadata": {},
   "source": [
    "<span id=\"gamma\"></span>\n",
    "### Distribution Gamma \n",
    "Jusqu'à présent, les distributions étudiées étaient symétriques et on pourrait se dire que c'est un cas particulier de distribution qui vérifient le théorème central limite. On va voir qu'en fait le théorème central limite marche quand même pour une distribution asymétrique.\n",
    "\n",
    "La distribution gamma correspond à la fonction :\n",
    "$$f(x,\\alpha)=\\dfrac{x^{a-1}\\exp(-x)}{\\Gamma(a)}$$\n",
    "\n",
    "Où $\\Gamma(a)$ est la *fonction* Gamma. \n",
    "\n",
    "Cette distribution permet de décrire la probabilité d'avoir un nombre donné d'occurences dans un intervalle de temps donné, la probababilité des événements observés étant constante."
   ]
  },
  {
   "cell_type": "code",
   "execution_count": null,
   "metadata": {},
   "outputs": [],
   "source": [
    "from scipy.stats import gamma\n",
    "n=100\n",
    "p=1000\n",
    "first_draw = gamma.rvs(2,loc=0.5-np.sqrt(2),scale=1/np.sqrt(2), size=n)\n",
    "plt.hist(first_draw,bins=n//10+1,density=True)\n",
    "#plotting the theoretical distribution\n",
    "xs = np.linspace(-2,5,1000)\n",
    "plt.plot(xs, gamma.pdf(xs,2,loc=0.5-np.sqrt(2),scale=1/np.sqrt(2)),'r-', lw=2, alpha=0.6)\n",
    "\n",
    "z0 = np.average(first_draw)\n",
    "print('la valeur moyenne correspondante est : {:.2f}'.format(z0))"
   ]
  },
  {
   "cell_type": "code",
   "execution_count": null,
   "metadata": {},
   "outputs": [],
   "source": [
    "p=1000\n",
    "n=100\n",
    "#We now repeat it p times\n",
    "zs = np.average(gamma.rvs(2,loc=0.5-np.sqrt(2),scale=1/np.sqrt(2),size=(n,p)), axis=0)\n",
    "#average of the distribution\n",
    "average = np.average(zs,axis=0)\n",
    "#variance de la distribution\n",
    "variance = np.var(zs,ddof=1,axis=0)\n",
    "standardDeviation = np.std(zs,ddof=1,axis=0)\n",
    "plt.hist(zs,bins=50,range=(np.min(zs),np.max(zs)),density=True)\n",
    "#plotting the corresponding gaussian distribution\n",
    "xs = np.linspace(0.5-5/np.sqrt(n),0.5+5/np.sqrt(n),1001)\n",
    "plt.plot(xs, norm.pdf(xs,loc=0.5,scale=1/(np.sqrt(n)) ),'r-', lw=2, alpha=0.6)\n",
    "print('sample      average: {:.3f} variance : {:.3f} standard deviation : {:.3f}'.format(average, variance,standardDeviation))\n",
    "print('theoretical average: {:.3f} variance : {:.3f} standard deviation : {:.3f}'.format(0.5,1/n ,1/(np.sqrt(n)) ))"
   ]
  },
  {
   "cell_type": "markdown",
   "metadata": {},
   "source": [
    "<span id=\"cauchy\"></span>\n",
    "### Une distribution qui ne vérifie pas le théorème central limite : distribution de Lorentz/Cauchy\n",
    "\n",
    "Si on vient de voir qu'à priori quelle que soit la distribution initiale, on finit par avoir une distribution gaussienne de la moyenne. Il ne faut pas pour autant généraliser trop vite ! Il faut en effet que les variables $z_i$ ait une variance ou un écart-type qui soit défini. Si ce n'est pas le cas, alors la convergence n'est pas assurée. \n",
    "\n",
    "Nous allons le mettre en évidence avec une distribution de Cauchy/distribution de Lorentz. Cette distribution n'est pas « juste » une curiosité mathématique : elle décrit la distribution spectrale d'une raie d'émission d'un gaz soumis à des chocs, elle décrit aussi la forme des pics en diffraction des rayons X, etc."
   ]
  },
  {
   "cell_type": "code",
   "execution_count": null,
   "metadata": {},
   "outputs": [],
   "source": [
    " #Ici, on choisit de faire un tirage de n valeurs\n",
    "from scipy.stats import cauchy\n",
    "premier_tirage = cauchy.rvs(loc=0.5,scale=1,size=n)\n",
    "plt.hist(premier_tirage,bins=101,density=True)\n",
    "\n",
    "#affichage de la fonction de distribution théorique\n",
    "xs = np.linspace(np.min(premier_tirage),np.max(premier_tirage),1000)\n",
    "plt.plot(xs, cauchy.pdf(xs,loc=0.5,scale=1),'r-', lw=2, alpha=0.6)\n",
    "#on additionne les n valeurs et on prend la moyenne\n",
    "z0 = np.sum(premier_tirage)/n\n",
    "print('la valeur moyenne correspondante est : {:.2f}'.format(z0))"
   ]
  },
  {
   "cell_type": "code",
   "execution_count": null,
   "metadata": {},
   "outputs": [],
   "source": [
    "#on répète maintenant l'opération p fois\n",
    "zs = np.sum(cauchy.rvs(loc=0.5,scale=1., size=(n,p)), axis = 0 )/n\n",
    "#Moyenne de la distribution\n",
    "moyenne = np.average(zs)\n",
    "#variance de la distribution\n",
    "variance = np.var(zs,ddof=1)\n",
    "ecartType= np.std(zs,ddof=1)\n",
    "print('moyenne: {} variance : {} écart-type : {}'.format(moyenne, variance,ecartType))\n",
    "#Tracé de l'histogramme\n",
    "plt.hist(zs,bins=101,range=(np.min(zs),np.max(zs)),density=True)\n",
    "#Tracé de la gaussienne correspondant\n",
    "xs=np.linspace(moyenne-5*ecartType,moyenne+5*ecartType,1000)\n",
    "plt.plot(xs, norm.pdf(xs,loc=moyenne,scale=ecartType ) )\n",
    "plt.xlim(moyenne-5*ecartType,moyenne+5*ecartType)\n",
    "\"\"\"exécuter le code plusieurs fois pour voir qu'en plus de cela, ni la moyenne ni l'écart-type ne convergent\"\"\""
   ]
  },
  {
   "cell_type": "markdown",
   "metadata": {},
   "source": [
    "On peut comparer les données obtenues pour la loi de Cauchy par rapport à ce qu'on aurait avec une fonction qui vérifie le théorème central limite comme la distribution uniforme."
   ]
  },
  {
   "cell_type": "code",
   "execution_count": null,
   "metadata": {},
   "outputs": [],
   "source": [
    "\"\"\"répétition sur 1000 distributions de p moyennes faites à partir de n tirages \"\"\"\n",
    "n=100\n",
    "p=1000\n",
    "\n",
    "distribs = ['uniforme','de Cauchy']\n",
    "results = {'uniforme':{'color':'#e41a1c'},\n",
    "          'de Cauchy':{'color':'#377eb8'}}\n",
    "\n",
    "\n",
    "for distrib in distribs:\n",
    "    if distrib == 'de Cauchy':\n",
    "        zs = np.sum(cauchy.rvs(scale=1., size=(n,p,1000)), axis = 0 )/n\n",
    "    elif distrib == 'uniforme':\n",
    "        zs = np.sum(uniform.rvs(loc=-0.5,scale=1., size=(n,p,1000)), axis = 0 )/n\n",
    "    results[distrib]['moyennes'] = np.average(zs,axis=0) #Moyenne de la distribution\n",
    "    results[distrib]['variances'] = np.var(zs,ddof=1,axis=0) #variance de la distribution\n",
    "    results[distrib]['ecartTypes'] = np.std(zs,ddof=1,axis=0) #ecart-type de la distribution\n",
    "    ##Valeurs moyennes et écart-types pour les 1000 tirages de 1000 tirages\n",
    "    results[distrib]['mmoyenne']   = np.average(results[distrib]['moyennes'])\n",
    "    results[distrib]['emoyenne']   = np.std(results[distrib]['moyennes'],ddof=1)\n",
    "    results[distrib]['mvariance']  = np.average(results[distrib]['variances'])\n",
    "    results[distrib]['evariance']  = np.std(results[distrib]['variances'],ddof=1)\n",
    "    results[distrib]['mecartType'] = np.average(results[distrib]['ecartTypes'])\n",
    "    results[distrib]['eecartType'] = np.std(results[distrib]['ecartTypes'],ddof=1)\n",
    "\n",
    "fig = plt.figure(figsize=(64,8))\n",
    "gs = fig.add_gridspec(3, len(distrib),hspace=0.5)\n",
    "\n",
    "xs = np.arange(p) #les xs correspondent à chacun des tirages\n",
    "for (i,distrib) in enumerate(distribs):\n",
    "    ax1 = fig.add_subplot(gs[0,i])\n",
    "    #tracé de la moyenne sur 1000 tirages de 1000 tirages\n",
    "    ax1.plot(xs,results[distrib]['moyennes'],color=results[distrib]['color'])\n",
    "    ax1.set_ylim(results[distrib]['mmoyenne']-5*results[distrib]['emoyenne'],results[distrib]['mmoyenne']+5*results[distrib]['emoyenne'])\n",
    "    ax1.set_title('évolution des moyennes pour la distribution {}'.format(distrib))\n",
    "    #tracé de la variance sur 1000 tirages de 1000 tirages\n",
    "    ax2 = fig.add_subplot(gs[1,i])\n",
    "    ax2.plot(xs,results[distrib]['variances'],color=results[distrib]['color'])\n",
    "    ax2.set_ylim(0,results[distrib]['mvariance']+3*results[distrib]['evariance'])\n",
    "    ax2.set_title('évolution de la variance pour la distribution {}'.format(distrib))\n",
    "    #tracé de l'écart-type sur 1000 tirages de 1000 tirages\n",
    "    ax3 = fig.add_subplot(gs[2,i])\n",
    "    ax3.plot(xs,results[distrib]['ecartTypes'],color=results[distrib]['color'])\n",
    "    ax3.set_ylim(0,results[distrib]['mecartType']+3*results[distrib]['eecartType'])\n",
    "    ax3.set_title('évolution de l\\'écart-type pour la distribution {}'.format(distrib))"
   ]
  },
  {
   "cell_type": "markdown",
   "metadata": {},
   "source": [
    "On peut voir que pour la distribution de Cauchy, les résultats ne sont pas stables du tout comparés à ceux obtenus pour la distribution rectangulaire. Cela est dû au fait que pour une distribution de Cauchy, les valeurs très éloignées de la valeur centrale ont une probabilité suffisante pour que lorsqu'une telle valeur est tirée, elle peut faire significativement bouger la moyenne et l'écart-type."
   ]
  },
  {
   "cell_type": "markdown",
   "metadata": {},
   "source": [
    "<span id=\"convergence\"></span>\n",
    "# Vitesse de la convergence\n",
    "Nous avons vu que sur plusieurs exemples, la distribution de la moyenne convergeait vers la distribution gaussienne. Si on prend des distributions de tirage ayant toutes le même écart-type, l'écart-type de la moyenne converge à la même vitesse. \n",
    "\n",
    "On prend trois distribution différentes : la distribution uniforme, la distribution triangulaire et la distribution gaussienne. Toutes ces distributions sont prises de manière à avoir la même moyenne (égale à zéro) et le même écart-type (égal à 1)."
   ]
  },
  {
   "cell_type": "code",
   "execution_count": null,
   "metadata": {},
   "outputs": [],
   "source": [
    "ns = [1,3,5,10,15,30,50,100,500]\n",
    "distribs = ['uniforme','triangulaire','gamma']\n",
    "#distribs = ['uniforme']\n",
    "results = {'uniforme':{'moyenne':[],'ecarttype':[],'zs':[],'color':'#e41a1c'},\n",
    "          'triangulaire':{'moyenne':[],'ecarttype':[],'zs':[],'color':'#377eb8'},\n",
    "          'gamma':{'moyenne':[],'ecarttype':[],'zs':[],'color':'#4daf4a'}}\n",
    "p = 1000\n",
    "sampling = 100\n",
    "for n in ns:\n",
    "    for distrib in distribs:\n",
    "        \"\"\"répétition sur 1000 distributions de p moyennes faites à partir de n tirages \"\"\"\n",
    "        if distrib == 'uniforme':\n",
    "            zs = np.sum(uniform.rvs(loc=-np.sqrt(3),scale=2*np.sqrt(3), size=(n,p,sampling)), axis = 0 )/n\n",
    "        elif distrib== 'triangulaire':\n",
    "            zs = np.sum(triang.rvs(0.5,loc=-np.sqrt(6),scale=2*np.sqrt(6), size=(n,p,sampling)), axis = 0 )/n  \n",
    "        elif distrib== 'gamma' :\n",
    "            zs = np.sum(gamma.rvs(1,loc=0,scale=1., size=(n,p,sampling)), axis = 0 )/n-1\n",
    "        #Moyennes de la distribution\n",
    "        moyennes = np.average(zs,axis=0)\n",
    "        #Écart-types de la distribution\n",
    "        ecartTypes = np.std(zs,ddof=1,axis=0)\n",
    "        results[distrib]['moyenne'].append(moyennes)\n",
    "        results[distrib]['ecarttype'].append(ecartTypes)\n",
    "        results[distrib]['zs'].append(zs)"
   ]
  },
  {
   "cell_type": "code",
   "execution_count": null,
   "metadata": {},
   "outputs": [],
   "source": [
    "#affichage des différents graphiques\n",
    "\n",
    "#pour avoir la même ordonnée pour pouvoir mieux comparer les différentes valeurs\n",
    "minimum_moy = np.min([results['uniforme']['moyenne'],results['triangulaire']['moyenne'],results['gamma']['moyenne']])\n",
    "maximum_moy = np.max([results['uniforme']['moyenne'],results['triangulaire']['moyenne'],results['gamma']['moyenne']])\n",
    "minimum_et = np.min([results['uniforme']['ecarttype'],results['triangulaire']['ecarttype'],results['gamma']['ecarttype']])\n",
    "maximum_et = np.max([results['uniforme']['ecarttype'],results['triangulaire']['ecarttype'],results['gamma']['ecarttype']])\n",
    "\n",
    "\n",
    "fig = plt.figure(figsize=(15,8))\n",
    "gs = fig.add_gridspec(2, len(distribs),hspace=0.25)  \n",
    "\n",
    "for (i,distrib) in enumerate(distribs) :\n",
    "    ax1 = fig.add_subplot(gs[0,i])\n",
    "    ax1.set_title('moyenne pour une distribution {}'.format(distrib))\n",
    "    #ax1.set_xscale('log')\n",
    "    ax1.boxplot(results[distrib]['moyenne'],positions=range(len(ns)),labels=ns,patch_artist=True,boxprops=dict(alpha=.3,facecolor=results[distrib]['color'], color=results[distrib]['color']),\n",
    "            capprops=dict(color=results[distrib]['color']),\n",
    "            whiskerprops=dict(color=results[distrib]['color']),\n",
    "            flierprops=dict(color=results[distrib]['color'], markeredgecolor=results[distrib]['color']),\n",
    "            medianprops=dict(color='#984ea3'))\n",
    "    ax1.set_ylim(1.1*minimum_moy,1.1*maximum_moy)\n",
    "    ax2 = fig.add_subplot(gs[1,i])\n",
    "    ax2.set_title('écart-type pour une distribution {}'.format(distrib))    \n",
    "    #ax2.set_xscale('log')    \n",
    "    ax2.boxplot(results[distrib]['ecarttype'],positions=range(len(ns)),labels=ns,patch_artist=True,boxprops=dict(alpha=.3,facecolor=results[distrib]['color'], color=results[distrib]['color']),\n",
    "            capprops=dict(color=results[distrib]['color']),\n",
    "            whiskerprops=dict(color=results[distrib]['color']),\n",
    "            flierprops=dict(color=results[distrib]['color'], markeredgecolor=results[distrib]['color']),\n",
    "            medianprops=dict(color='#984ea3'))\n",
    "    ax2.set_ylim(1.1*minimum_et,1.1*maximum_et)"
   ]
  },
  {
   "cell_type": "markdown",
   "metadata": {},
   "source": [
    "On peut vérifier cela en traçant les différentes distributions obtenues par échantillonage en fonction de la valeur de $n$ (en ligne), pour les trois distributions (en colonne : uniforme, triangulaire, gaussienne)"
   ]
  },
  {
   "cell_type": "code",
   "execution_count": null,
   "metadata": {},
   "outputs": [],
   "source": [
    "ns = [1,3,5,10,15,30,50]\n",
    "xs = np.linspace(-2,2,1000)\n",
    "fig = plt.figure(figsize=(15,8))\n",
    "gs = fig.add_gridspec(len(ns), len(distribs),hspace=0.5)  \n",
    "#affichage des différents graphiques\n",
    "for (i,distrib) in enumerate(distribs) :\n",
    "    for (l,n) in enumerate(ns):\n",
    "        ax3 = fig.add_subplot(gs[l,i])\n",
    "        ax3.plot(xs,norm.pdf(xs,0,1/np.sqrt(n)),alpha=1,color=results[distrib]['color'])\n",
    "        for d in range(sampling):\n",
    "            hist,bins = np.histogram(results[distrib]['zs'][l][:,d],density=True)\n",
    "            ax3.plot((bins[:-1]+bins[1:])/2,hist,alpha=0.1)"
   ]
  },
  {
   "cell_type": "markdown",
   "metadata": {},
   "source": [
    "Pour des distributions discrètes comme la distribution binomiale ou de poisson, les résultats sont analogues."
   ]
  },
  {
   "cell_type": "code",
   "execution_count": null,
   "metadata": {},
   "outputs": [],
   "source": [
    "from scipy.stats import poisson\n",
    "ns = [1,3,5,10,15,30,50,100,500]\n",
    "distribs = ['binomiale','poisson']\n",
    "#distribs = ['poisson']\n",
    "results = {'binomiale':{'moyenne':[],'ecarttype':[],'zs':[],'color':'#e41a1c'},\n",
    "          'poisson':{'moyenne':[],'ecarttype':[],'zs':[],'color':'#377eb8'}}\n",
    "q=4\n",
    "mu=1\n",
    "p = 1000\n",
    "sampling = 100\n",
    "for n in ns:\n",
    "    for distrib in distribs:\n",
    "        \"\"\"répétition sur 1000 distributions de p moyennes faites à partir de n tirages \"\"\"\n",
    "        if distrib == 'binomiale':\n",
    "            zs = np.sum(binom.rvs(q,r,size=(n,p,sampling)), axis=0)/n-q/2\n",
    "        elif distrib== 'poisson':\n",
    "            zs = np.sum(poisson.rvs(mu,size=(n,p,sampling)), axis = 0 )/n-1\n",
    "        #Moyennes de la distribution\n",
    "        moyennes = np.average(zs,axis=0)\n",
    "        #Écart-types de la distribution\n",
    "        ecartTypes = np.std(zs,ddof=1,axis=0)\n",
    "        results[distrib]['moyenne'].append(moyennes)\n",
    "        results[distrib]['ecarttype'].append(ecartTypes )\n",
    "        results[distrib]['zs'].append(zs )\n"
   ]
  },
  {
   "cell_type": "code",
   "execution_count": null,
   "metadata": {},
   "outputs": [],
   "source": [
    "#affichage des différents graphiques\n",
    "fig = plt.figure(figsize=(15,8))\n",
    "gs = fig.add_gridspec(2, len(distribs),hspace=0.25)  \n",
    "\n",
    "\n",
    "\n",
    "for (i,distrib) in enumerate(distribs) :\n",
    "    ax1 = fig.add_subplot(gs[0,i])\n",
    "    ax1.set_title('moyenne pour une distribution {}'.format(distrib))\n",
    "    #ax1.set_xscale('log')\n",
    "    ax1.boxplot(results[distrib]['moyenne'],positions=range(len(ns)),labels=ns,patch_artist=True,boxprops=dict(alpha=.3,facecolor=results[distrib]['color'], color=results[distrib]['color']),\n",
    "            capprops=dict(color=results[distrib]['color']),\n",
    "            whiskerprops=dict(color=results[distrib]['color']),\n",
    "            flierprops=dict(color=results[distrib]['color'], markeredgecolor=results[distrib]['color']),\n",
    "            medianprops=dict(color='#984ea3'))\n",
    "    #ax1.set_ylim(1.1*minimum_moy,1.1*maximum_moy)\n",
    "    ax2 = fig.add_subplot(gs[1,i])\n",
    "    ax2.set_title('évolution de l\\'écart-type pour une distribution {}'.format(distrib))    \n",
    "    #ax2.set_xscale('log')    \n",
    "    ax2.boxplot(results[distrib]['ecarttype'],positions=range(len(ns)),labels=ns,patch_artist=True,boxprops=dict(alpha=.3,facecolor=results[distrib]['color'], color=results[distrib]['color']),\n",
    "            capprops=dict(color=results[distrib]['color']),\n",
    "            whiskerprops=dict(color=results[distrib]['color']),\n",
    "            flierprops=dict(color=results[distrib]['color'], markeredgecolor=results[distrib]['color']),\n",
    "            medianprops=dict(color='#984ea3'))"
   ]
  },
  {
   "cell_type": "code",
   "execution_count": null,
   "metadata": {
    "scrolled": true
   },
   "outputs": [],
   "source": [
    "ns = [1,3,5,10,15,30,50]\n",
    "xs = np.linspace(-2,2,1000)\n",
    "fig = plt.figure(figsize=(15,8))\n",
    "gs = fig.add_gridspec(len(ns), len(distribs),hspace=0.5)  \n",
    "#affichage des différents graphiques\n",
    "for (i,distrib) in enumerate(distribs) :\n",
    "    for (l,n) in enumerate(ns):\n",
    "        ax3 = fig.add_subplot(gs[l,i])\n",
    "        ax3.plot(xs,norm.pdf(xs,0,1/np.sqrt(n)),alpha=1,color='red')\n",
    "        for d in range(sampling):\n",
    "            hist,bins = np.histogram(results[distrib]['zs'][l][:,d],density=True)\n",
    "            ax3.plot((bins[:-1]+bins[1:])/2,hist,alpha=0.1)"
   ]
  }
 ],
 "metadata": {
  "kernelspec": {
   "display_name": "Python 3",
   "language": "python",
   "name": "python3"
  },
  "language_info": {
   "codemirror_mode": {
    "name": "ipython",
    "version": 3
   },
   "file_extension": ".py",
   "mimetype": "text/x-python",
   "name": "python",
   "nbconvert_exporter": "python",
   "pygments_lexer": "ipython3",
   "version": "3.7.6"
  }
 },
 "nbformat": 4,
 "nbformat_minor": 4
}
